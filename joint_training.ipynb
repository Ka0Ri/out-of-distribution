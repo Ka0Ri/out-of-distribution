{
 "cells": [
  {
   "cell_type": "code",
   "execution_count": 13,
   "metadata": {},
   "outputs": [],
   "source": [
    "import torch\n",
    "import torch.nn as nn\n",
    "import torch.nn.functional as F\n",
    "import torch.optim as optim\n",
    "import numpy as np\n",
    "import matplotlib.pyplot as plt\n",
    "import scipy.stats as st\n",
    "from scipy.stats import multivariate_normal\n",
    "\n",
    "from torch.autograd import Variable\n",
    "from utls import *\n",
    "from torchsummary import *\n",
    "from tqdm import tqdm_notebook as tqdm\n"
   ]
  },
  {
   "cell_type": "markdown",
   "metadata": {},
   "source": [
    "hyper parameters"
   ]
  },
  {
   "cell_type": "code",
   "execution_count": 14,
   "metadata": {},
   "outputs": [],
   "source": [
    "lr = 0.001\n",
    "lr_step = 20\n",
    "lr_decay = 0.8\n",
    "n_epoch = 200\n",
    "n_batch = 32\n",
    "n_class = 2\n",
    "n_noise_fea = 2\n",
    "img_size = (3, 128, 128)\n",
    "log_file = 'test_GAN_2_class'\n",
    "device_name = 'cuda:0'\n",
    "seed = 1\n",
    "\n",
    "torch.cuda.set_device(device_name)\n",
    "torch.set_default_tensor_type('torch.cuda.FloatTensor')\n",
    "device=torch.device(device_name)\n",
    "torch.cuda.manual_seed(seed)"
   ]
  },
  {
   "cell_type": "code",
   "execution_count": 15,
   "metadata": {},
   "outputs": [
    {
     "data": {
      "text/plain": [
       "<matplotlib.collections.PathCollection at 0x7fe5c4649dd8>"
      ]
     },
     "execution_count": 15,
     "metadata": {},
     "output_type": "execute_result"
    },
    {
     "data": {
      "image/png": "[encoded data removed]",
      "text/plain": [
       "<Figure size 576x576 with 1 Axes>"
      ]
     },
     "metadata": {
      "needs_background": "light"
     },
     "output_type": "display_data"
    }
   ],
   "source": [
    "X_train1 = np.random.multivariate_normal([0, 0], [[3, 0], [0, 5]], 2000)\n",
    "X_train2 = np.random.multivariate_normal([20, 20], [[5, 3], [3, 4]], 2000)\n",
    "Y1 = 0 * np.ones(2000)\n",
    "Y2 = 1 * np.ones(2000)\n",
    "\n",
    "X_in = np.concatenate([X_train1, X_train2])\n",
    "Y_in = np.concatenate([Y1, Y2])\n",
    "Y = np.zeros(4000)\n",
    "Y_in = np.column_stack((Y_in, Y))\n",
    "plt.figure(figsize=[8,8])\n",
    "plt.ylim(-50, 50)\n",
    "plt.xlim(-50, 50)\n",
    "plt.scatter(X_train1[:,0], X_train1[:,1], c='b', linewidth=0.1)\n",
    "plt.scatter(X_train2[:,0], X_train2[:,1], c='r', linewidth=0.1)"
   ]
  },
  {
   "cell_type": "code",
   "execution_count": 16,
   "metadata": {},
   "outputs": [],
   "source": [
    "X_test = np.random.uniform(low=[-50, -50], high=[50, 50], size=(5000,2))\n",
    "Y_test = 0 * np.ones((5000, 2))"
   ]
  },
  {
   "cell_type": "code",
   "execution_count": 17,
   "metadata": {},
   "outputs": [],
   "source": [
    "class dataload(TensorDataset):\n",
    "    \"\"\"Customized dataset loader\"\"\"\n",
    "    def __init__(self, mode):\n",
    "\n",
    "        if(mode == 'test'):\n",
    "            self.data = X_test\n",
    "            self.labels = Y_test\n",
    "        else:\n",
    "            self.data = np.concatenate([X_in])\n",
    "            self.labels = np.concatenate([Y_in])\n",
    "        self.labels = self.labels.astype(np.long)\n",
    "\n",
    "    def __len__(self):\n",
    "        return (self.data.shape[0])\n",
    "\n",
    "    def __getitem__(self, idx):\n",
    "        data = self.data[idx]\n",
    "        labels = self.labels[idx][0]\n",
    "        return data, labels"
   ]
  },
  {
   "cell_type": "code",
   "execution_count": 18,
   "metadata": {},
   "outputs": [],
   "source": [
    "def images_to_vectors(images):\n",
    "    return images.view(images.size(0), 784)\n",
    "\n",
    "def vectors_to_images(vectors):\n",
    "    return vectors.view(vectors.size(0), 1, 28, 28)\n",
    "\n",
    "class DiscriminatorNet(torch.nn.Module):\n",
    "    \"\"\"\n",
    "    A two hidden-layer discriminative neural network\n",
    "    \"\"\"\n",
    "    def __init__(self):\n",
    "        super(DiscriminatorNet, self).__init__()\n",
    "        n_features = 2\n",
    "        n_out = 1\n",
    "        \n",
    "        self.hidden0 = nn.Sequential( \n",
    "            nn.Linear(n_features, 500),\n",
    "            nn.LeakyReLU(0.2),\n",
    "            nn.Linear(500, 500),\n",
    "            nn.LeakyReLU(0.2),\n",
    "#             nn.Dropout(0.3)\n",
    "        )\n",
    "        self.out = nn.Sequential(\n",
    "            nn.Linear(500, n_out),\n",
    "            nn.Sigmoid()\n",
    "        )\n",
    "\n",
    "    def forward(self, x):\n",
    "        x = self.hidden0(x)\n",
    "        x = self.out(x)\n",
    "        return x\n",
    "    \n",
    "class GeneratorNet(torch.nn.Module):\n",
    "    \"\"\"\n",
    "    A two hidden-layer generative neural network\n",
    "    \"\"\"\n",
    "    def __init__(self):\n",
    "        super(GeneratorNet, self).__init__()\n",
    "        n_features = n_noise_fea\n",
    "        n_out = 2\n",
    "        \n",
    "        self.hidden0 = nn.Sequential(\n",
    "            nn.Linear(n_features, 500),\n",
    "            nn.ReLU(),\n",
    "            nn.Linear(500, 500),\n",
    "            nn.ReLU(),\n",
    "        )\n",
    "        self.out = nn.Sequential(\n",
    "            nn.Linear(500, n_out),\n",
    "#             nn.Tanh()\n",
    "        )\n",
    "\n",
    "    def forward(self, x):\n",
    "        x = self.hidden0(x)\n",
    "        x = self.out(x)\n",
    "        return x\n",
    "    \n",
    "class twohiddenNet(nn.Module):\n",
    "    def __init__(self, num_classes = 2):\n",
    "        super(twohiddenNet, self).__init__()\n",
    "        self.layers = nn.Sequential(\n",
    "            nn.Linear(2, 500),\n",
    "            nn.ReLU(),\n",
    "            nn.Linear(500, 500),\n",
    "            nn.ReLU(),\n",
    "            nn.Linear(500, num_classes),\n",
    "#             nn.Softmax(dim=-1),\n",
    "        )\n",
    "    def forward(self, x):\n",
    "        out = self.layers(x)\n",
    "        return out"
   ]
  },
  {
   "cell_type": "code",
   "execution_count": 19,
   "metadata": {},
   "outputs": [],
   "source": [
    "class Trainer():\n",
    "    def __init__(self, generator, discriminator, predictor, num_classes = 2):\n",
    "        \n",
    "        self.N = 100 #batch_size\n",
    "        self.num_classes = num_classes\n",
    "        self.beta = 5\n",
    "        \n",
    "        self.discriminator = discriminator\n",
    "        self.generator = generator\n",
    "        self.predictor = predictor\n",
    "        self.discriminator.train()\n",
    "        self.generator.train()\n",
    "        self.predictor.train()\n",
    "        \n",
    "        self.loss = nn.BCELoss()\n",
    "        self.out_dist_loss = nn.KLDivLoss(reduction='batchmean')\n",
    "        self.in_dist_loss = nn.NLLLoss()\n",
    "        \n",
    "        self.d_optimizer = torch.optim.Adam(self.discriminator.parameters(), lr=0.0002)\n",
    "        self.g_optimizer = torch.optim.Adam(self.generator.parameters(), lr=0.0001)\n",
    "        self.p_optimizer = torch.optim.Adam(self.predictor.parameters(), lr=0.0001)\n",
    "        \n",
    "        self.predictor.load_state_dict(torch.load('logs/_pre_init.pt'))\n",
    "        self.predictor.eval()\n",
    "        \n",
    "    \n",
    "    def noise(self, size):\n",
    "        '''\n",
    "        Generates a 1-d vector of gaussian sampled random values\n",
    "        '''\n",
    "        n = torch.randn(size, n_noise_fea)\n",
    "        return n\n",
    "        \n",
    "    def train_discriminator(self, real_data):\n",
    "        N = real_data.size(0)\n",
    "        self.d_optimizer.zero_grad()\n",
    "        smothness = 0\n",
    "        # 1.1 Train on Real Data\n",
    "        prediction_real = self.discriminator(real_data)\n",
    "        # Calculate error and backpropagate\n",
    "        error_real = self.loss(prediction_real, torch.ones(N, 1) - smothness)\n",
    "        \n",
    "        # 1.2 Train on Fake Data\n",
    "        # Generate fake data and detach \n",
    "        # (so gradients are not calculated for generator)\n",
    "        fake_data = self.generator(self.noise(self.N))\n",
    "        prediction_fake = self.discriminator(fake_data.detach())\n",
    "        # Calculate error and backpropagate\n",
    "        error_fake = self.loss(prediction_fake, torch.zeros(self.N, 1) + smothness)\n",
    "        err = error_real + error_fake\n",
    "        err.backward()\n",
    "        # 1.3 Update weights with gradients\n",
    "        self.d_optimizer.step()\n",
    "\n",
    "        return err, prediction_real, prediction_fake\n",
    "\n",
    "    def train_generator(self):\n",
    "        \n",
    "        self.g_optimizer.zero_grad()\n",
    "        # 1.1 Train on fake data\n",
    "        # Sample noise and generate fake data\n",
    "        fake_data = self.generator(self.noise(self.N))\n",
    "        prediction = self.discriminator(fake_data)\n",
    "        # Calculate error and backpropagate\n",
    "        error = self.loss(prediction, torch.ones(self.N, 1))\n",
    "        \n",
    "        #1.2 Train KL divergence on Fake Data\n",
    "        output = self.predictor(fake_data)\n",
    "        output = F.log_softmax(output, dim=-1)\n",
    "        uniform_dist = torch.Tensor(output.size(0), self.num_classes).fill_((1./self.num_classes))\n",
    "        error_KL = self.out_dist_loss(output, uniform_dist)\n",
    "           \n",
    "        err = (self.beta * error_KL + error)/(1 + self.beta)\n",
    "        err.backward()\n",
    "        # Update weights with gradients\n",
    "        self.g_optimizer.step()\n",
    "        # Return error\n",
    "        return err\n",
    "    \n",
    "    def train_predictor(self, real_data, cls):\n",
    "\n",
    "        self.p_optimizer.zero_grad()\n",
    "       \n",
    "        # 1.1 Train on Real Data\n",
    "        prediction = self.predictor(real_data)\n",
    "        \n",
    "        # Calculate error and backpropagate\n",
    "        prediction = F.log_softmax(prediction, dim=-1)\n",
    "        error_real = self.in_dist_loss(prediction, 1 - cls)\n",
    "        \n",
    "        # 1.2 Train KL divergence on Fake Data\n",
    "        # Generate fake data and detach \n",
    "        # (so gradients are not calculated for generator)\n",
    "        fake_data = self.generator(self.noise(self.N))\n",
    "        output = self.predictor(fake_data.detach())\n",
    "        output = F.log_softmax(output, dim=-1)\n",
    "        uniform_dist = torch.Tensor(output.size(0), self.num_classes).fill_((1./self.num_classes)).cuda()\n",
    "        error_KL = self.out_dist_loss(output, uniform_dist)\n",
    "        \n",
    "        err = (error_KL + error_real)\n",
    "        err.backward()\n",
    "        # 1.3 Update weights with gradients\n",
    "        self.p_optimizer.step()\n",
    "\n",
    "        return err, prediction, output\n"
   ]
  },
  {
   "cell_type": "code",
   "execution_count": 20,
   "metadata": {},
   "outputs": [],
   "source": [
    "Train_data = dataload(mode = 'train')\n",
    "Train_dataloader = DataLoader(dataset=Train_data, batch_size = 100, shuffle=True)"
   ]
  },
  {
   "cell_type": "code",
   "execution_count": 21,
   "metadata": {},
   "outputs": [
    {
     "name": "stdout",
     "output_type": "stream",
     "text": [
      "Discriminator\n",
      "----------------------------------------------------------------\n",
      "        Layer (type)               Output Shape         Param #\n",
      "================================================================\n",
      "            Linear-1                  [-1, 500]           1,500\n",
      "         LeakyReLU-2                  [-1, 500]               0\n",
      "            Linear-3                  [-1, 500]         250,500\n",
      "         LeakyReLU-4                  [-1, 500]               0\n",
      "            Linear-5                    [-1, 1]             501\n",
      "           Sigmoid-6                    [-1, 1]               0\n",
      "================================================================\n",
      "Total params: 252,501\n",
      "Trainable params: 252,501\n",
      "Non-trainable params: 0\n",
      "----------------------------------------------------------------\n",
      "Input size (MB): 0.00\n",
      "Forward/backward pass size (MB): 0.02\n",
      "Params size (MB): 0.96\n",
      "Estimated Total Size (MB): 0.98\n",
      "----------------------------------------------------------------\n",
      "Generator\n",
      "----------------------------------------------------------------\n",
      "        Layer (type)               Output Shape         Param #\n",
      "================================================================\n",
      "            Linear-1                  [-1, 500]           1,500\n",
      "              ReLU-2                  [-1, 500]               0\n",
      "            Linear-3                  [-1, 500]         250,500\n",
      "              ReLU-4                  [-1, 500]               0\n",
      "            Linear-5                    [-1, 2]           1,002\n",
      "================================================================\n",
      "Total params: 253,002\n",
      "Trainable params: 253,002\n",
      "Non-trainable params: 0\n",
      "----------------------------------------------------------------\n",
      "Input size (MB): 0.00\n",
      "Forward/backward pass size (MB): 0.02\n",
      "Params size (MB): 0.97\n",
      "Estimated Total Size (MB): 0.98\n",
      "----------------------------------------------------------------\n",
      "Predictor\n",
      "----------------------------------------------------------------\n",
      "        Layer (type)               Output Shape         Param #\n",
      "================================================================\n",
      "            Linear-1                  [-1, 500]           1,500\n",
      "              ReLU-2                  [-1, 500]               0\n",
      "            Linear-3                  [-1, 500]         250,500\n",
      "              ReLU-4                  [-1, 500]               0\n",
      "            Linear-5                    [-1, 2]           1,002\n",
      "================================================================\n",
      "Total params: 253,002\n",
      "Trainable params: 253,002\n",
      "Non-trainable params: 0\n",
      "----------------------------------------------------------------\n",
      "Input size (MB): 0.00\n",
      "Forward/backward pass size (MB): 0.02\n",
      "Params size (MB): 0.97\n",
      "Estimated Total Size (MB): 0.98\n",
      "----------------------------------------------------------------\n"
     ]
    }
   ],
   "source": [
    "_discriminator = DiscriminatorNet().to(device)\n",
    "_generator = GeneratorNet().to(device)\n",
    "_predictor = twohiddenNet().to(device)\n",
    "\n",
    "train_data, _, = next(iter(Train_dataloader))\n",
    "print(\"Discriminator\")\n",
    "summary(_discriminator, input_size= train_data[0].size())\n",
    "print(\"Generator\")\n",
    "summary(_generator, input_size= torch.Size([n_noise_fea]))\n",
    "print(\"Predictor\")\n",
    "summary(_predictor, input_size= train_data[0].size())"
   ]
  },
  {
   "cell_type": "code",
   "execution_count": 22,
   "metadata": {},
   "outputs": [
    {
     "name": "stderr",
     "output_type": "stream",
     "text": [
      "Setting up a new session...\n",
      "Setting up a new session...\n"
     ]
    },
    {
     "name": "stdout",
     "output_type": "stream",
     "text": [
      "[1/200]\n"
     ]
    },
    {
     "data": {
      "application/vnd.jupyter.widget-view+json": {
       "model_id": "abf528112ede4c619392bea71aec0fc5",
       "version_major": 2,
       "version_minor": 0
      },
      "text/plain": [
       "HBox(children=(IntProgress(value=0, max=40), HTML(value='')))"
      ]
     },
     "metadata": {},
     "output_type": "display_data"
    },
    {
     "name": "stdout",
     "output_type": "stream",
     "text": [
      "\n",
      "generator loss : 12.0770, discriminator loss : 0.7442, predictor loss  0.3798\n",
      "[2/200]\n"
     ]
    },
    {
     "data": {
      "application/vnd.jupyter.widget-view+json": {
       "model_id": "16900e23519f4502bf7c63c0967ab813",
       "version_major": 2,
       "version_minor": 0
      },
      "text/plain": [
       "HBox(children=(IntProgress(value=0, max=40), HTML(value='')))"
      ]
     },
     "metadata": {},
     "output_type": "display_data"
    },
    {
     "name": "stdout",
     "output_type": "stream",
     "text": [
      "\n",
      "generator loss : 3.0677, discriminator loss : 0.2359, predictor loss  0.3798\n",
      "[3/200]\n"
     ]
    },
    {
     "data": {
      "application/vnd.jupyter.widget-view+json": {
       "model_id": "63afe7122388462b8360f3dbf3df5c4d",
       "version_major": 2,
       "version_minor": 0
      },
      "text/plain": [
       "HBox(children=(IntProgress(value=0, max=40), HTML(value='')))"
      ]
     },
     "metadata": {},
     "output_type": "display_data"
    },
    {
     "name": "stdout",
     "output_type": "stream",
     "text": [
      "\n",
      "generator loss : 0.8493, discriminator loss : 0.0903, predictor loss  0.3798\n",
      "[4/200]\n"
     ]
    },
    {
     "data": {
      "application/vnd.jupyter.widget-view+json": {
       "model_id": "f233a7d0441f45c98025d4c6dedd1fc7",
       "version_major": 2,
       "version_minor": 0
      },
      "text/plain": [
       "HBox(children=(IntProgress(value=0, max=40), HTML(value='')))"
      ]
     },
     "metadata": {},
     "output_type": "display_data"
    },
    {
     "name": "stdout",
     "output_type": "stream",
     "text": [
      "\n",
      "generator loss : 0.9256, discriminator loss : 0.0523, predictor loss  0.3798\n",
      "[5/200]\n"
     ]
    },
    {
     "data": {
      "application/vnd.jupyter.widget-view+json": {
       "model_id": "c3a615f3f26d42c2bf5170189a21bac5",
       "version_major": 2,
       "version_minor": 0
      },
      "text/plain": [
       "HBox(children=(IntProgress(value=0, max=40), HTML(value='')))"
      ]
     },
     "metadata": {},
     "output_type": "display_data"
    },
    {
     "name": "stdout",
     "output_type": "stream",
     "text": [
      "\n",
      "generator loss : 1.0344, discriminator loss : 0.0395, predictor loss  0.3798\n",
      "[6/200]\n"
     ]
    },
    {
     "data": {
      "application/vnd.jupyter.widget-view+json": {
       "model_id": "150003c6f1bd42b7a0f5a67b858ec3d5",
       "version_major": 2,
       "version_minor": 0
      },
      "text/plain": [
       "HBox(children=(IntProgress(value=0, max=40), HTML(value='')))"
      ]
     },
     "metadata": {},
     "output_type": "display_data"
    },
    {
     "name": "stdout",
     "output_type": "stream",
     "text": [
      "\n",
      "generator loss : 1.0430, discriminator loss : 0.0352, predictor loss  0.3798\n",
      "[7/200]\n"
     ]
    },
    {
     "data": {
      "application/vnd.jupyter.widget-view+json": {
       "model_id": "ab21c83e99d04862937f9b003dd124ca",
       "version_major": 2,
       "version_minor": 0
      },
      "text/plain": [
       "HBox(children=(IntProgress(value=0, max=40), HTML(value='')))"
      ]
     },
     "metadata": {},
     "output_type": "display_data"
    },
    {
     "name": "stdout",
     "output_type": "stream",
     "text": [
      "\n",
      "generator loss : 1.1074, discriminator loss : 0.0428, predictor loss  0.3798\n",
      "[8/200]\n"
     ]
    },
    {
     "data": {
      "application/vnd.jupyter.widget-view+json": {
       "model_id": "f5b68613da884d50880286d1a6d2fe8d",
       "version_major": 2,
       "version_minor": 0
      },
      "text/plain": [
       "HBox(children=(IntProgress(value=0, max=40), HTML(value='')))"
      ]
     },
     "metadata": {},
     "output_type": "display_data"
    },
    {
     "name": "stdout",
     "output_type": "stream",
     "text": [
      "\n",
      "generator loss : 1.2046, discriminator loss : 0.0790, predictor loss  0.3798\n",
      "[9/200]\n"
     ]
    },
    {
     "data": {
      "application/vnd.jupyter.widget-view+json": {
       "model_id": "a9455fcc0ecb4731b6442fe7ea4d9edd",
       "version_major": 2,
       "version_minor": 0
      },
      "text/plain": [
       "HBox(children=(IntProgress(value=0, max=40), HTML(value='')))"
      ]
     },
     "metadata": {},
     "output_type": "display_data"
    },
    {
     "name": "stdout",
     "output_type": "stream",
     "text": [
      "\n",
      "generator loss : 1.0959, discriminator loss : 0.3272, predictor loss  0.3798\n",
      "[10/200]\n"
     ]
    },
    {
     "data": {
      "application/vnd.jupyter.widget-view+json": {
       "model_id": "38996ac2f3ab41699c124ec6b0a91e9d",
       "version_major": 2,
       "version_minor": 0
      },
      "text/plain": [
       "HBox(children=(IntProgress(value=0, max=40), HTML(value='')))"
      ]
     },
     "metadata": {},
     "output_type": "display_data"
    },
    {
     "name": "stdout",
     "output_type": "stream",
     "text": [
      "\n",
      "generator loss : 0.7742, discriminator loss : 0.4766, predictor loss  0.3798\n",
      "[11/200]\n"
     ]
    },
    {
     "data": {
      "application/vnd.jupyter.widget-view+json": {
       "model_id": "cb5217b490e84bc29931d9e754d1a1ec",
       "version_major": 2,
       "version_minor": 0
      },
      "text/plain": [
       "HBox(children=(IntProgress(value=0, max=40), HTML(value='')))"
      ]
     },
     "metadata": {},
     "output_type": "display_data"
    },
    {
     "name": "stdout",
     "output_type": "stream",
     "text": [
      "\n",
      "generator loss : 0.6183, discriminator loss : 0.4601, predictor loss  0.3798\n",
      "[12/200]\n"
     ]
    },
    {
     "data": {
      "application/vnd.jupyter.widget-view+json": {
       "model_id": "cedac11bdceb4824ab31bcb0801ffcfe",
       "version_major": 2,
       "version_minor": 0
      },
      "text/plain": [
       "HBox(children=(IntProgress(value=0, max=40), HTML(value='')))"
      ]
     },
     "metadata": {},
     "output_type": "display_data"
    },
    {
     "name": "stdout",
     "output_type": "stream",
     "text": [
      "\n",
      "generator loss : 0.5730, discriminator loss : 0.2999, predictor loss  0.3798\n",
      "[13/200]\n"
     ]
    },
    {
     "data": {
      "application/vnd.jupyter.widget-view+json": {
       "model_id": "79a32356ebc94621a511d0008f7f1f84",
       "version_major": 2,
       "version_minor": 0
      },
      "text/plain": [
       "HBox(children=(IntProgress(value=0, max=40), HTML(value='')))"
      ]
     },
     "metadata": {},
     "output_type": "display_data"
    },
    {
     "name": "stdout",
     "output_type": "stream",
     "text": [
      "\n",
      "generator loss : 0.5818, discriminator loss : 0.2296, predictor loss  0.3798\n",
      "[14/200]\n"
     ]
    },
    {
     "data": {
      "application/vnd.jupyter.widget-view+json": {
       "model_id": "c8f9828f53b24f72a513aed01db52980",
       "version_major": 2,
       "version_minor": 0
      },
      "text/plain": [
       "HBox(children=(IntProgress(value=0, max=40), HTML(value='')))"
      ]
     },
     "metadata": {},
     "output_type": "display_data"
    },
    {
     "name": "stdout",
     "output_type": "stream",
     "text": [
      "\n",
      "generator loss : 0.5996, discriminator loss : 0.1780, predictor loss  0.3798\n",
      "[15/200]\n"
     ]
    },
    {
     "data": {
      "application/vnd.jupyter.widget-view+json": {
       "model_id": "5557a7bd81294f06a0cb22a75b00264f",
       "version_major": 2,
       "version_minor": 0
      },
      "text/plain": [
       "HBox(children=(IntProgress(value=0, max=40), HTML(value='')))"
      ]
     },
     "metadata": {},
     "output_type": "display_data"
    },
    {
     "name": "stdout",
     "output_type": "stream",
     "text": [
      "\n",
      "generator loss : 0.6171, discriminator loss : 0.1504, predictor loss  0.3798\n",
      "[16/200]\n"
     ]
    },
    {
     "data": {
      "application/vnd.jupyter.widget-view+json": {
       "model_id": "711a84e48b20436bac916cb665d455b4",
       "version_major": 2,
       "version_minor": 0
      },
      "text/plain": [
       "HBox(children=(IntProgress(value=0, max=40), HTML(value='')))"
      ]
     },
     "metadata": {},
     "output_type": "display_data"
    },
    {
     "name": "stdout",
     "output_type": "stream",
     "text": [
      "\n",
      "generator loss : 0.6383, discriminator loss : 0.1252, predictor loss  0.3798\n",
      "[17/200]\n"
     ]
    },
    {
     "data": {
      "application/vnd.jupyter.widget-view+json": {
       "model_id": "fe8d9f8b14994d95b0d1d493dd9b9324",
       "version_major": 2,
       "version_minor": 0
      },
      "text/plain": [
       "HBox(children=(IntProgress(value=0, max=40), HTML(value='')))"
      ]
     },
     "metadata": {},
     "output_type": "display_data"
    },
    {
     "name": "stdout",
     "output_type": "stream",
     "text": [
      "\n",
      "generator loss : 0.6605, discriminator loss : 0.1027, predictor loss  0.3798\n",
      "[18/200]\n"
     ]
    },
    {
     "data": {
      "application/vnd.jupyter.widget-view+json": {
       "model_id": "75120cf1e9f64878b7e4cc789757eb5f",
       "version_major": 2,
       "version_minor": 0
      },
      "text/plain": [
       "HBox(children=(IntProgress(value=0, max=40), HTML(value='')))"
      ]
     },
     "metadata": {},
     "output_type": "display_data"
    },
    {
     "name": "stdout",
     "output_type": "stream",
     "text": [
      "\n",
      "generator loss : 0.6771, discriminator loss : 0.0942, predictor loss  0.3798\n",
      "[19/200]\n"
     ]
    },
    {
     "data": {
      "application/vnd.jupyter.widget-view+json": {
       "model_id": "2acf403b73224da2bb003a1e9cd0b88e",
       "version_major": 2,
       "version_minor": 0
      },
      "text/plain": [
       "HBox(children=(IntProgress(value=0, max=40), HTML(value='')))"
      ]
     },
     "metadata": {},
     "output_type": "display_data"
    },
    {
     "name": "stdout",
     "output_type": "stream",
     "text": [
      "\n",
      "generator loss : 0.6833, discriminator loss : 0.0793, predictor loss  0.3798\n",
      "[20/200]\n"
     ]
    },
    {
     "data": {
      "application/vnd.jupyter.widget-view+json": {
       "model_id": "a7968e9d8b594d6ca4727e56735048b1",
       "version_major": 2,
       "version_minor": 0
      },
      "text/plain": [
       "HBox(children=(IntProgress(value=0, max=40), HTML(value='')))"
      ]
     },
     "metadata": {},
     "output_type": "display_data"
    },
    {
     "name": "stdout",
     "output_type": "stream",
     "text": [
      "\n",
      "generator loss : 0.7103, discriminator loss : 0.0712, predictor loss  0.3798\n",
      "[21/200]\n"
     ]
    },
    {
     "data": {
      "application/vnd.jupyter.widget-view+json": {
       "model_id": "e29c38c33d2e40b1baa1d49a9b41dbac",
       "version_major": 2,
       "version_minor": 0
      },
      "text/plain": [
       "HBox(children=(IntProgress(value=0, max=40), HTML(value='')))"
      ]
     },
     "metadata": {},
     "output_type": "display_data"
    },
    {
     "name": "stdout",
     "output_type": "stream",
     "text": [
      "\n",
      "generator loss : 0.7424, discriminator loss : 0.0663, predictor loss  0.3798\n",
      "[22/200]\n"
     ]
    },
    {
     "data": {
      "application/vnd.jupyter.widget-view+json": {
       "model_id": "a6ac1bae18a34a3b9ecb73cad5498143",
       "version_major": 2,
       "version_minor": 0
      },
      "text/plain": [
       "HBox(children=(IntProgress(value=0, max=40), HTML(value='')))"
      ]
     },
     "metadata": {},
     "output_type": "display_data"
    },
    {
     "name": "stdout",
     "output_type": "stream",
     "text": [
      "\n",
      "generator loss : 0.7486, discriminator loss : 0.0603, predictor loss  0.3798\n",
      "[23/200]\n"
     ]
    },
    {
     "data": {
      "application/vnd.jupyter.widget-view+json": {
       "model_id": "63f75c190d524d31805be52f005f87dd",
       "version_major": 2,
       "version_minor": 0
      },
      "text/plain": [
       "HBox(children=(IntProgress(value=0, max=40), HTML(value='')))"
      ]
     },
     "metadata": {},
     "output_type": "display_data"
    },
    {
     "name": "stdout",
     "output_type": "stream",
     "text": [
      "\n",
      "generator loss : 0.7667, discriminator loss : 0.0589, predictor loss  0.3798\n",
      "[24/200]\n"
     ]
    },
    {
     "data": {
      "application/vnd.jupyter.widget-view+json": {
       "model_id": "e4ebe4a66d2949019f3416d7ee21b350",
       "version_major": 2,
       "version_minor": 0
      },
      "text/plain": [
       "HBox(children=(IntProgress(value=0, max=40), HTML(value='')))"
      ]
     },
     "metadata": {},
     "output_type": "display_data"
    },
    {
     "name": "stdout",
     "output_type": "stream",
     "text": [
      "\n",
      "generator loss : 0.7797, discriminator loss : 0.0548, predictor loss  0.3798\n",
      "[25/200]\n"
     ]
    },
    {
     "data": {
      "application/vnd.jupyter.widget-view+json": {
       "model_id": "8b99161742ab4310907f17832a914da6",
       "version_major": 2,
       "version_minor": 0
      },
      "text/plain": [
       "HBox(children=(IntProgress(value=0, max=40), HTML(value='')))"
      ]
     },
     "metadata": {},
     "output_type": "display_data"
    },
    {
     "name": "stdout",
     "output_type": "stream",
     "text": [
      "\n",
      "generator loss : 0.7997, discriminator loss : 0.0539, predictor loss  0.3798\n",
      "[26/200]\n"
     ]
    },
    {
     "data": {
      "application/vnd.jupyter.widget-view+json": {
       "model_id": "48f0d79cefc849039510323958de2103",
       "version_major": 2,
       "version_minor": 0
      },
      "text/plain": [
       "HBox(children=(IntProgress(value=0, max=40), HTML(value='')))"
      ]
     },
     "metadata": {},
     "output_type": "display_data"
    },
    {
     "name": "stdout",
     "output_type": "stream",
     "text": [
      "\n",
      "generator loss : 0.8283, discriminator loss : 0.0525, predictor loss  0.3798\n",
      "[27/200]\n"
     ]
    },
    {
     "data": {
      "application/vnd.jupyter.widget-view+json": {
       "model_id": "14d79063ff464aa5a5080df9e6767227",
       "version_major": 2,
       "version_minor": 0
      },
      "text/plain": [
       "HBox(children=(IntProgress(value=0, max=40), HTML(value='')))"
      ]
     },
     "metadata": {},
     "output_type": "display_data"
    },
    {
     "name": "stdout",
     "output_type": "stream",
     "text": [
      "\n",
      "generator loss : 0.8365, discriminator loss : 0.0494, predictor loss  0.3798\n",
      "[28/200]\n"
     ]
    },
    {
     "data": {
      "application/vnd.jupyter.widget-view+json": {
       "model_id": "86afed2c121c4f64923c7008960b12d8",
       "version_major": 2,
       "version_minor": 0
      },
      "text/plain": [
       "HBox(children=(IntProgress(value=0, max=40), HTML(value='')))"
      ]
     },
     "metadata": {},
     "output_type": "display_data"
    },
    {
     "name": "stdout",
     "output_type": "stream",
     "text": [
      "\n",
      "generator loss : 0.8546, discriminator loss : 0.0477, predictor loss  0.3798\n",
      "[29/200]\n"
     ]
    },
    {
     "data": {
      "application/vnd.jupyter.widget-view+json": {
       "model_id": "949e8296054e4dda8ab39394cf70ccdd",
       "version_major": 2,
       "version_minor": 0
      },
      "text/plain": [
       "HBox(children=(IntProgress(value=0, max=40), HTML(value='')))"
      ]
     },
     "metadata": {},
     "output_type": "display_data"
    },
    {
     "name": "stdout",
     "output_type": "stream",
     "text": [
      "\n",
      "generator loss : 0.8711, discriminator loss : 0.0453, predictor loss  0.3798\n",
      "[30/200]\n"
     ]
    },
    {
     "data": {
      "application/vnd.jupyter.widget-view+json": {
       "model_id": "4d8b9db0ec7f4735a461280dd3470134",
       "version_major": 2,
       "version_minor": 0
      },
      "text/plain": [
       "HBox(children=(IntProgress(value=0, max=40), HTML(value='')))"
      ]
     },
     "metadata": {},
     "output_type": "display_data"
    },
    {
     "name": "stdout",
     "output_type": "stream",
     "text": [
      "\n",
      "generator loss : 0.8922, discriminator loss : 0.0419, predictor loss  0.3798\n",
      "[31/200]\n"
     ]
    },
    {
     "data": {
      "application/vnd.jupyter.widget-view+json": {
       "model_id": "74dc870d2463447ea0519be4ce12a8fe",
       "version_major": 2,
       "version_minor": 0
      },
      "text/plain": [
       "HBox(children=(IntProgress(value=0, max=40), HTML(value='')))"
      ]
     },
     "metadata": {},
     "output_type": "display_data"
    },
    {
     "name": "stdout",
     "output_type": "stream",
     "text": [
      "\n",
      "generator loss : 0.8864, discriminator loss : 0.0435, predictor loss  0.3798\n",
      "[32/200]\n"
     ]
    },
    {
     "data": {
      "application/vnd.jupyter.widget-view+json": {
       "model_id": "68d1c1a5689142faba96651c76966b31",
       "version_major": 2,
       "version_minor": 0
      },
      "text/plain": [
       "HBox(children=(IntProgress(value=0, max=40), HTML(value='')))"
      ]
     },
     "metadata": {},
     "output_type": "display_data"
    },
    {
     "name": "stdout",
     "output_type": "stream",
     "text": [
      "\n",
      "generator loss : 0.9175, discriminator loss : 0.0438, predictor loss  0.3798\n",
      "[33/200]\n"
     ]
    },
    {
     "data": {
      "application/vnd.jupyter.widget-view+json": {
       "model_id": "fc2b13595cc143f680951e6b61f75753",
       "version_major": 2,
       "version_minor": 0
      },
      "text/plain": [
       "HBox(children=(IntProgress(value=0, max=40), HTML(value='')))"
      ]
     },
     "metadata": {},
     "output_type": "display_data"
    },
    {
     "name": "stdout",
     "output_type": "stream",
     "text": [
      "\n",
      "generator loss : 0.9115, discriminator loss : 0.0439, predictor loss  0.3798\n",
      "[34/200]\n"
     ]
    },
    {
     "data": {
      "application/vnd.jupyter.widget-view+json": {
       "model_id": "4e434c3dba8d4e1c9b04714b4333f4f4",
       "version_major": 2,
       "version_minor": 0
      },
      "text/plain": [
       "HBox(children=(IntProgress(value=0, max=40), HTML(value='')))"
      ]
     },
     "metadata": {},
     "output_type": "display_data"
    },
    {
     "name": "stdout",
     "output_type": "stream",
     "text": [
      "\n",
      "generator loss : 0.9364, discriminator loss : 0.0456, predictor loss  0.3798\n",
      "[35/200]\n"
     ]
    },
    {
     "data": {
      "application/vnd.jupyter.widget-view+json": {
       "model_id": "a4e8f5dc1a8f4935a9b95a30a8259dee",
       "version_major": 2,
       "version_minor": 0
      },
      "text/plain": [
       "HBox(children=(IntProgress(value=0, max=40), HTML(value='')))"
      ]
     },
     "metadata": {},
     "output_type": "display_data"
    },
    {
     "name": "stdout",
     "output_type": "stream",
     "text": [
      "\n",
      "generator loss : 0.9346, discriminator loss : 0.0490, predictor loss  0.3798\n",
      "[36/200]\n"
     ]
    },
    {
     "data": {
      "application/vnd.jupyter.widget-view+json": {
       "model_id": "db693fdb038d45eda761f2ae5248a3b4",
       "version_major": 2,
       "version_minor": 0
      },
      "text/plain": [
       "HBox(children=(IntProgress(value=0, max=40), HTML(value='')))"
      ]
     },
     "metadata": {},
     "output_type": "display_data"
    },
    {
     "name": "stdout",
     "output_type": "stream",
     "text": [
      "\n",
      "generator loss : 0.9574, discriminator loss : 0.0406, predictor loss  0.3798\n",
      "[37/200]\n"
     ]
    },
    {
     "data": {
      "application/vnd.jupyter.widget-view+json": {
       "model_id": "6c14542fa90a4f4c98cbb6b372f169f3",
       "version_major": 2,
       "version_minor": 0
      },
      "text/plain": [
       "HBox(children=(IntProgress(value=0, max=40), HTML(value='')))"
      ]
     },
     "metadata": {},
     "output_type": "display_data"
    },
    {
     "name": "stdout",
     "output_type": "stream",
     "text": [
      "\n",
      "generator loss : 0.9577, discriminator loss : 0.0385, predictor loss  0.3798\n",
      "[38/200]\n"
     ]
    },
    {
     "data": {
      "application/vnd.jupyter.widget-view+json": {
       "model_id": "176f29e9c1a345c2ab62e77675758c33",
       "version_major": 2,
       "version_minor": 0
      },
      "text/plain": [
       "HBox(children=(IntProgress(value=0, max=40), HTML(value='')))"
      ]
     },
     "metadata": {},
     "output_type": "display_data"
    },
    {
     "name": "stdout",
     "output_type": "stream",
     "text": [
      "\n",
      "generator loss : 0.9643, discriminator loss : 0.0401, predictor loss  0.3798\n",
      "[39/200]\n"
     ]
    },
    {
     "data": {
      "application/vnd.jupyter.widget-view+json": {
       "model_id": "2cee92386dd04e3dbc0fec8cf57acc0c",
       "version_major": 2,
       "version_minor": 0
      },
      "text/plain": [
       "HBox(children=(IntProgress(value=0, max=40), HTML(value='')))"
      ]
     },
     "metadata": {},
     "output_type": "display_data"
    },
    {
     "name": "stdout",
     "output_type": "stream",
     "text": [
      "\n",
      "generator loss : 0.9902, discriminator loss : 0.0382, predictor loss  0.3798\n",
      "[40/200]\n"
     ]
    },
    {
     "data": {
      "application/vnd.jupyter.widget-view+json": {
       "model_id": "da1d933940c74f61ace5a9930793ac47",
       "version_major": 2,
       "version_minor": 0
      },
      "text/plain": [
       "HBox(children=(IntProgress(value=0, max=40), HTML(value='')))"
      ]
     },
     "metadata": {},
     "output_type": "display_data"
    },
    {
     "name": "stdout",
     "output_type": "stream",
     "text": [
      "\n",
      "generator loss : 0.9894, discriminator loss : 0.0374, predictor loss  0.3798\n",
      "[41/200]\n"
     ]
    },
    {
     "data": {
      "application/vnd.jupyter.widget-view+json": {
       "model_id": "0541b41c3e5d4d0bbe385fc1c5a3d07c",
       "version_major": 2,
       "version_minor": 0
      },
      "text/plain": [
       "HBox(children=(IntProgress(value=0, max=40), HTML(value='')))"
      ]
     },
     "metadata": {},
     "output_type": "display_data"
    },
    {
     "name": "stdout",
     "output_type": "stream",
     "text": [
      "\n",
      "generator loss : 1.0046, discriminator loss : 0.0372, predictor loss  0.3798\n",
      "[42/200]\n"
     ]
    },
    {
     "data": {
      "application/vnd.jupyter.widget-view+json": {
       "model_id": "11139509211442228384ea5a078bf4fb",
       "version_major": 2,
       "version_minor": 0
      },
      "text/plain": [
       "HBox(children=(IntProgress(value=0, max=40), HTML(value='')))"
      ]
     },
     "metadata": {},
     "output_type": "display_data"
    },
    {
     "name": "stdout",
     "output_type": "stream",
     "text": [
      "\n",
      "generator loss : 1.0088, discriminator loss : 0.0388, predictor loss  0.3798\n",
      "[43/200]\n"
     ]
    },
    {
     "data": {
      "application/vnd.jupyter.widget-view+json": {
       "model_id": "0c6ba31f395147eeb5b8befa580e77ee",
       "version_major": 2,
       "version_minor": 0
      },
      "text/plain": [
       "HBox(children=(IntProgress(value=0, max=40), HTML(value='')))"
      ]
     },
     "metadata": {},
     "output_type": "display_data"
    },
    {
     "name": "stdout",
     "output_type": "stream",
     "text": [
      "\n",
      "generator loss : 1.0168, discriminator loss : 0.0358, predictor loss  0.3798\n",
      "[44/200]\n"
     ]
    },
    {
     "data": {
      "application/vnd.jupyter.widget-view+json": {
       "model_id": "7612c4b01e3f4794b9b1d61400c01f72",
       "version_major": 2,
       "version_minor": 0
      },
      "text/plain": [
       "HBox(children=(IntProgress(value=0, max=40), HTML(value='')))"
      ]
     },
     "metadata": {},
     "output_type": "display_data"
    },
    {
     "name": "stdout",
     "output_type": "stream",
     "text": [
      "\n",
      "generator loss : 1.0220, discriminator loss : 0.0364, predictor loss  0.3798\n",
      "[45/200]\n"
     ]
    },
    {
     "data": {
      "application/vnd.jupyter.widget-view+json": {
       "model_id": "58f7efa0946e4849a295a73af9edda5a",
       "version_major": 2,
       "version_minor": 0
      },
      "text/plain": [
       "HBox(children=(IntProgress(value=0, max=40), HTML(value='')))"
      ]
     },
     "metadata": {},
     "output_type": "display_data"
    },
    {
     "name": "stdout",
     "output_type": "stream",
     "text": [
      "\n",
      "generator loss : 1.0357, discriminator loss : 0.0386, predictor loss  0.3798\n",
      "[46/200]\n"
     ]
    },
    {
     "data": {
      "application/vnd.jupyter.widget-view+json": {
       "model_id": "b87a2d8fa486406a8edc5ab4e41a7a87",
       "version_major": 2,
       "version_minor": 0
      },
      "text/plain": [
       "HBox(children=(IntProgress(value=0, max=40), HTML(value='')))"
      ]
     },
     "metadata": {},
     "output_type": "display_data"
    },
    {
     "name": "stdout",
     "output_type": "stream",
     "text": [
      "\n",
      "generator loss : 1.0415, discriminator loss : 0.0379, predictor loss  0.3798\n",
      "[47/200]\n"
     ]
    },
    {
     "data": {
      "application/vnd.jupyter.widget-view+json": {
       "model_id": "9d3e1809abfc4d81804a6785f59d412b",
       "version_major": 2,
       "version_minor": 0
      },
      "text/plain": [
       "HBox(children=(IntProgress(value=0, max=40), HTML(value='')))"
      ]
     },
     "metadata": {},
     "output_type": "display_data"
    },
    {
     "name": "stdout",
     "output_type": "stream",
     "text": [
      "\n",
      "generator loss : 1.0729, discriminator loss : 0.0412, predictor loss  0.3798\n",
      "[48/200]\n"
     ]
    },
    {
     "data": {
      "application/vnd.jupyter.widget-view+json": {
       "model_id": "82bf20be8be34efa9c4d9d10b915e90a",
       "version_major": 2,
       "version_minor": 0
      },
      "text/plain": [
       "HBox(children=(IntProgress(value=0, max=40), HTML(value='')))"
      ]
     },
     "metadata": {},
     "output_type": "display_data"
    },
    {
     "name": "stdout",
     "output_type": "stream",
     "text": [
      "\n",
      "generator loss : 1.0743, discriminator loss : 0.0352, predictor loss  0.3798\n",
      "[49/200]\n"
     ]
    },
    {
     "data": {
      "application/vnd.jupyter.widget-view+json": {
       "model_id": "2480f9450f7943d5ace3169813d00d33",
       "version_major": 2,
       "version_minor": 0
      },
      "text/plain": [
       "HBox(children=(IntProgress(value=0, max=40), HTML(value='')))"
      ]
     },
     "metadata": {},
     "output_type": "display_data"
    },
    {
     "name": "stdout",
     "output_type": "stream",
     "text": [
      "\n",
      "generator loss : 1.0857, discriminator loss : 0.0370, predictor loss  0.3798\n",
      "[50/200]\n"
     ]
    },
    {
     "data": {
      "application/vnd.jupyter.widget-view+json": {
       "model_id": "bf7b350230b54144be06aee28ed50496",
       "version_major": 2,
       "version_minor": 0
      },
      "text/plain": [
       "HBox(children=(IntProgress(value=0, max=40), HTML(value='')))"
      ]
     },
     "metadata": {},
     "output_type": "display_data"
    },
    {
     "name": "stdout",
     "output_type": "stream",
     "text": [
      "\n",
      "generator loss : 1.0836, discriminator loss : 0.0394, predictor loss  0.3798\n",
      "[51/200]\n"
     ]
    },
    {
     "data": {
      "application/vnd.jupyter.widget-view+json": {
       "model_id": "9f905ec6cbf2422ca2ce2980deb0829b",
       "version_major": 2,
       "version_minor": 0
      },
      "text/plain": [
       "HBox(children=(IntProgress(value=0, max=40), HTML(value='')))"
      ]
     },
     "metadata": {},
     "output_type": "display_data"
    },
    {
     "name": "stdout",
     "output_type": "stream",
     "text": [
      "\n",
      "generator loss : 1.0850, discriminator loss : 0.0353, predictor loss  0.3798\n",
      "[52/200]\n"
     ]
    },
    {
     "data": {
      "application/vnd.jupyter.widget-view+json": {
       "model_id": "506bf72b5cbd49568e901f9f9a4ea036",
       "version_major": 2,
       "version_minor": 0
      },
      "text/plain": [
       "HBox(children=(IntProgress(value=0, max=40), HTML(value='')))"
      ]
     },
     "metadata": {},
     "output_type": "display_data"
    },
    {
     "name": "stdout",
     "output_type": "stream",
     "text": [
      "\n",
      "generator loss : 1.0681, discriminator loss : 0.0348, predictor loss  0.3798\n",
      "[53/200]\n"
     ]
    },
    {
     "data": {
      "application/vnd.jupyter.widget-view+json": {
       "model_id": "6b9ffa0e466d47f09daf8ce375ccd9e7",
       "version_major": 2,
       "version_minor": 0
      },
      "text/plain": [
       "HBox(children=(IntProgress(value=0, max=40), HTML(value='')))"
      ]
     },
     "metadata": {},
     "output_type": "display_data"
    },
    {
     "name": "stdout",
     "output_type": "stream",
     "text": [
      "\n",
      "generator loss : 1.1582, discriminator loss : 0.0358, predictor loss  0.3798\n",
      "[54/200]\n"
     ]
    },
    {
     "data": {
      "application/vnd.jupyter.widget-view+json": {
       "model_id": "76ac35e0db614b07897c2c70e6d5f945",
       "version_major": 2,
       "version_minor": 0
      },
      "text/plain": [
       "HBox(children=(IntProgress(value=0, max=40), HTML(value='')))"
      ]
     },
     "metadata": {},
     "output_type": "display_data"
    },
    {
     "name": "stdout",
     "output_type": "stream",
     "text": [
      "\n",
      "generator loss : 1.0892, discriminator loss : 0.0346, predictor loss  0.3798\n",
      "[55/200]\n"
     ]
    },
    {
     "data": {
      "application/vnd.jupyter.widget-view+json": {
       "model_id": "bee152d20ad34d298d4be2d31e0b329f",
       "version_major": 2,
       "version_minor": 0
      },
      "text/plain": [
       "HBox(children=(IntProgress(value=0, max=40), HTML(value='')))"
      ]
     },
     "metadata": {},
     "output_type": "display_data"
    },
    {
     "name": "stdout",
     "output_type": "stream",
     "text": [
      "\n",
      "generator loss : 1.1190, discriminator loss : 0.0317, predictor loss  0.3798\n",
      "[56/200]\n"
     ]
    },
    {
     "data": {
      "application/vnd.jupyter.widget-view+json": {
       "model_id": "725ecd9e9f83489281c8fab61efa28b2",
       "version_major": 2,
       "version_minor": 0
      },
      "text/plain": [
       "HBox(children=(IntProgress(value=0, max=40), HTML(value='')))"
      ]
     },
     "metadata": {},
     "output_type": "display_data"
    },
    {
     "name": "stdout",
     "output_type": "stream",
     "text": [
      "\n",
      "generator loss : 1.1267, discriminator loss : 0.0323, predictor loss  0.3798\n",
      "[57/200]\n"
     ]
    },
    {
     "data": {
      "application/vnd.jupyter.widget-view+json": {
       "model_id": "c269848a12f643528b2daca9239a0c36",
       "version_major": 2,
       "version_minor": 0
      },
      "text/plain": [
       "HBox(children=(IntProgress(value=0, max=40), HTML(value='')))"
      ]
     },
     "metadata": {},
     "output_type": "display_data"
    },
    {
     "name": "stdout",
     "output_type": "stream",
     "text": [
      "\n",
      "generator loss : 1.1165, discriminator loss : 0.0318, predictor loss  0.3798\n",
      "[58/200]\n"
     ]
    },
    {
     "data": {
      "application/vnd.jupyter.widget-view+json": {
       "model_id": "14a03c5476e540928548eb4c0c2ef140",
       "version_major": 2,
       "version_minor": 0
      },
      "text/plain": [
       "HBox(children=(IntProgress(value=0, max=40), HTML(value='')))"
      ]
     },
     "metadata": {},
     "output_type": "display_data"
    },
    {
     "name": "stdout",
     "output_type": "stream",
     "text": [
      "\n",
      "generator loss : 1.1707, discriminator loss : 0.0377, predictor loss  0.3798\n",
      "[59/200]\n"
     ]
    },
    {
     "data": {
      "application/vnd.jupyter.widget-view+json": {
       "model_id": "bec144d9420b4a57b6c170f243461265",
       "version_major": 2,
       "version_minor": 0
      },
      "text/plain": [
       "HBox(children=(IntProgress(value=0, max=40), HTML(value='')))"
      ]
     },
     "metadata": {},
     "output_type": "display_data"
    },
    {
     "name": "stdout",
     "output_type": "stream",
     "text": [
      "\n",
      "generator loss : 1.1397, discriminator loss : 0.0339, predictor loss  0.3798\n",
      "[60/200]\n"
     ]
    },
    {
     "data": {
      "application/vnd.jupyter.widget-view+json": {
       "model_id": "7b364b6b19b14ea09b6ec68bf4506463",
       "version_major": 2,
       "version_minor": 0
      },
      "text/plain": [
       "HBox(children=(IntProgress(value=0, max=40), HTML(value='')))"
      ]
     },
     "metadata": {},
     "output_type": "display_data"
    },
    {
     "name": "stdout",
     "output_type": "stream",
     "text": [
      "\n",
      "generator loss : 1.1556, discriminator loss : 0.0390, predictor loss  0.3798\n",
      "[61/200]\n"
     ]
    },
    {
     "data": {
      "application/vnd.jupyter.widget-view+json": {
       "model_id": "8b440391f3694b60beee90d26da145a5",
       "version_major": 2,
       "version_minor": 0
      },
      "text/plain": [
       "HBox(children=(IntProgress(value=0, max=40), HTML(value='')))"
      ]
     },
     "metadata": {},
     "output_type": "display_data"
    },
    {
     "name": "stdout",
     "output_type": "stream",
     "text": [
      "\n",
      "generator loss : 1.1757, discriminator loss : 0.0342, predictor loss  0.3798\n",
      "[62/200]\n"
     ]
    },
    {
     "data": {
      "application/vnd.jupyter.widget-view+json": {
       "model_id": "8dbb3d0fb2f14477aa18c8e7fead7fec",
       "version_major": 2,
       "version_minor": 0
      },
      "text/plain": [
       "HBox(children=(IntProgress(value=0, max=40), HTML(value='')))"
      ]
     },
     "metadata": {},
     "output_type": "display_data"
    },
    {
     "name": "stdout",
     "output_type": "stream",
     "text": [
      "\n",
      "generator loss : 1.1818, discriminator loss : 0.0316, predictor loss  0.3798\n",
      "[63/200]\n"
     ]
    },
    {
     "data": {
      "application/vnd.jupyter.widget-view+json": {
       "model_id": "fa1d7d0e978744fd89679846463ec26b",
       "version_major": 2,
       "version_minor": 0
      },
      "text/plain": [
       "HBox(children=(IntProgress(value=0, max=40), HTML(value='')))"
      ]
     },
     "metadata": {},
     "output_type": "display_data"
    },
    {
     "name": "stdout",
     "output_type": "stream",
     "text": [
      "\n",
      "generator loss : 1.1289, discriminator loss : 0.0351, predictor loss  0.3798\n",
      "[64/200]\n"
     ]
    },
    {
     "data": {
      "application/vnd.jupyter.widget-view+json": {
       "model_id": "50764cfb4303491c8a8de0b2b4ef128c",
       "version_major": 2,
       "version_minor": 0
      },
      "text/plain": [
       "HBox(children=(IntProgress(value=0, max=40), HTML(value='')))"
      ]
     },
     "metadata": {},
     "output_type": "display_data"
    },
    {
     "name": "stdout",
     "output_type": "stream",
     "text": [
      "\n",
      "generator loss : 1.1713, discriminator loss : 0.0306, predictor loss  0.3798\n",
      "[65/200]\n"
     ]
    },
    {
     "data": {
      "application/vnd.jupyter.widget-view+json": {
       "model_id": "e2eb8609991948caa439adccde5a7c95",
       "version_major": 2,
       "version_minor": 0
      },
      "text/plain": [
       "HBox(children=(IntProgress(value=0, max=40), HTML(value='')))"
      ]
     },
     "metadata": {},
     "output_type": "display_data"
    },
    {
     "name": "stdout",
     "output_type": "stream",
     "text": [
      "\n",
      "generator loss : 1.1670, discriminator loss : 0.0309, predictor loss  0.3798\n",
      "[66/200]\n"
     ]
    },
    {
     "data": {
      "application/vnd.jupyter.widget-view+json": {
       "model_id": "b21ab4940dac4598809f82e1e423c0b3",
       "version_major": 2,
       "version_minor": 0
      },
      "text/plain": [
       "HBox(children=(IntProgress(value=0, max=40), HTML(value='')))"
      ]
     },
     "metadata": {},
     "output_type": "display_data"
    },
    {
     "name": "stdout",
     "output_type": "stream",
     "text": [
      "\n",
      "generator loss : 1.1729, discriminator loss : 0.0299, predictor loss  0.3798\n",
      "[67/200]\n"
     ]
    },
    {
     "data": {
      "application/vnd.jupyter.widget-view+json": {
       "model_id": "7084c038400c4db390beba4511b63000",
       "version_major": 2,
       "version_minor": 0
      },
      "text/plain": [
       "HBox(children=(IntProgress(value=0, max=40), HTML(value='')))"
      ]
     },
     "metadata": {},
     "output_type": "display_data"
    },
    {
     "name": "stdout",
     "output_type": "stream",
     "text": [
      "\n",
      "generator loss : 1.2188, discriminator loss : 0.0402, predictor loss  0.3798\n",
      "[68/200]\n"
     ]
    },
    {
     "data": {
      "application/vnd.jupyter.widget-view+json": {
       "model_id": "d2462b1db2124276948a82474a4699b8",
       "version_major": 2,
       "version_minor": 0
      },
      "text/plain": [
       "HBox(children=(IntProgress(value=0, max=40), HTML(value='')))"
      ]
     },
     "metadata": {},
     "output_type": "display_data"
    },
    {
     "name": "stdout",
     "output_type": "stream",
     "text": [
      "\n",
      "generator loss : 1.1892, discriminator loss : 0.0323, predictor loss  0.3798\n",
      "[69/200]\n"
     ]
    },
    {
     "data": {
      "application/vnd.jupyter.widget-view+json": {
       "model_id": "c075cff598e947e78d0eefec754462a6",
       "version_major": 2,
       "version_minor": 0
      },
      "text/plain": [
       "HBox(children=(IntProgress(value=0, max=40), HTML(value='')))"
      ]
     },
     "metadata": {},
     "output_type": "display_data"
    },
    {
     "name": "stdout",
     "output_type": "stream",
     "text": [
      "\n",
      "generator loss : 1.1921, discriminator loss : 0.0394, predictor loss  0.3798\n",
      "[70/200]\n"
     ]
    },
    {
     "data": {
      "application/vnd.jupyter.widget-view+json": {
       "model_id": "105a1764c0494cf1b5703ef0fb1115e7",
       "version_major": 2,
       "version_minor": 0
      },
      "text/plain": [
       "HBox(children=(IntProgress(value=0, max=40), HTML(value='')))"
      ]
     },
     "metadata": {},
     "output_type": "display_data"
    },
    {
     "name": "stdout",
     "output_type": "stream",
     "text": [
      "\n",
      "generator loss : 1.2161, discriminator loss : 0.0420, predictor loss  0.3798\n",
      "[71/200]\n"
     ]
    },
    {
     "data": {
      "application/vnd.jupyter.widget-view+json": {
       "model_id": "466d08479c8a4e88b35841025888c4a3",
       "version_major": 2,
       "version_minor": 0
      },
      "text/plain": [
       "HBox(children=(IntProgress(value=0, max=40), HTML(value='')))"
      ]
     },
     "metadata": {},
     "output_type": "display_data"
    },
    {
     "name": "stdout",
     "output_type": "stream",
     "text": [
      "\n",
      "generator loss : 1.2231, discriminator loss : 0.0321, predictor loss  0.3798\n",
      "[72/200]\n"
     ]
    },
    {
     "data": {
      "application/vnd.jupyter.widget-view+json": {
       "model_id": "aebe5b911f2a458ba9ec990e065bd272",
       "version_major": 2,
       "version_minor": 0
      },
      "text/plain": [
       "HBox(children=(IntProgress(value=0, max=40), HTML(value='')))"
      ]
     },
     "metadata": {},
     "output_type": "display_data"
    },
    {
     "name": "stdout",
     "output_type": "stream",
     "text": [
      "\n",
      "generator loss : 1.1662, discriminator loss : 0.0378, predictor loss  0.3798\n",
      "[73/200]\n"
     ]
    },
    {
     "data": {
      "application/vnd.jupyter.widget-view+json": {
       "model_id": "7860b4005ef946118487b4c5d2993632",
       "version_major": 2,
       "version_minor": 0
      },
      "text/plain": [
       "HBox(children=(IntProgress(value=0, max=40), HTML(value='')))"
      ]
     },
     "metadata": {},
     "output_type": "display_data"
    },
    {
     "name": "stdout",
     "output_type": "stream",
     "text": [
      "\n",
      "generator loss : 1.2586, discriminator loss : 0.0389, predictor loss  0.3798\n",
      "[74/200]\n"
     ]
    },
    {
     "data": {
      "application/vnd.jupyter.widget-view+json": {
       "model_id": "4618fbfe96ad4287afe6ed7656823a58",
       "version_major": 2,
       "version_minor": 0
      },
      "text/plain": [
       "HBox(children=(IntProgress(value=0, max=40), HTML(value='')))"
      ]
     },
     "metadata": {},
     "output_type": "display_data"
    },
    {
     "name": "stdout",
     "output_type": "stream",
     "text": [
      "\n",
      "generator loss : 1.2219, discriminator loss : 0.0428, predictor loss  0.3798\n",
      "[75/200]\n"
     ]
    },
    {
     "data": {
      "application/vnd.jupyter.widget-view+json": {
       "model_id": "0c951b2283ff403589a3bb8d2bd363e5",
       "version_major": 2,
       "version_minor": 0
      },
      "text/plain": [
       "HBox(children=(IntProgress(value=0, max=40), HTML(value='')))"
      ]
     },
     "metadata": {},
     "output_type": "display_data"
    },
    {
     "name": "stdout",
     "output_type": "stream",
     "text": [
      "\n",
      "generator loss : 1.2327, discriminator loss : 0.0272, predictor loss  0.3798\n",
      "[76/200]\n"
     ]
    },
    {
     "data": {
      "application/vnd.jupyter.widget-view+json": {
       "model_id": "579ba2a96f7d4e939770622aa762142e",
       "version_major": 2,
       "version_minor": 0
      },
      "text/plain": [
       "HBox(children=(IntProgress(value=0, max=40), HTML(value='')))"
      ]
     },
     "metadata": {},
     "output_type": "display_data"
    },
    {
     "name": "stdout",
     "output_type": "stream",
     "text": [
      "\n",
      "generator loss : 1.2529, discriminator loss : 0.0350, predictor loss  0.3798\n",
      "[77/200]\n"
     ]
    },
    {
     "data": {
      "application/vnd.jupyter.widget-view+json": {
       "model_id": "532d64a57ee84c5e99e668723f27944a",
       "version_major": 2,
       "version_minor": 0
      },
      "text/plain": [
       "HBox(children=(IntProgress(value=0, max=40), HTML(value='')))"
      ]
     },
     "metadata": {},
     "output_type": "display_data"
    },
    {
     "name": "stdout",
     "output_type": "stream",
     "text": [
      "\n",
      "generator loss : 1.2341, discriminator loss : 0.0331, predictor loss  0.3798\n",
      "[78/200]\n"
     ]
    },
    {
     "data": {
      "application/vnd.jupyter.widget-view+json": {
       "model_id": "f0d5106ada3d4a4da769766ccda1272c",
       "version_major": 2,
       "version_minor": 0
      },
      "text/plain": [
       "HBox(children=(IntProgress(value=0, max=40), HTML(value='')))"
      ]
     },
     "metadata": {},
     "output_type": "display_data"
    },
    {
     "name": "stdout",
     "output_type": "stream",
     "text": [
      "\n",
      "generator loss : 1.2068, discriminator loss : 0.0300, predictor loss  0.3798\n",
      "[79/200]\n"
     ]
    },
    {
     "data": {
      "application/vnd.jupyter.widget-view+json": {
       "model_id": "30ab280b90f845e0bc88ad8523f39e3a",
       "version_major": 2,
       "version_minor": 0
      },
      "text/plain": [
       "HBox(children=(IntProgress(value=0, max=40), HTML(value='')))"
      ]
     },
     "metadata": {},
     "output_type": "display_data"
    },
    {
     "name": "stdout",
     "output_type": "stream",
     "text": [
      "\n",
      "generator loss : 1.2325, discriminator loss : 0.0351, predictor loss  0.3798\n",
      "[80/200]\n"
     ]
    },
    {
     "data": {
      "application/vnd.jupyter.widget-view+json": {
       "model_id": "05c1430f797240d3bcf2fba2857add55",
       "version_major": 2,
       "version_minor": 0
      },
      "text/plain": [
       "HBox(children=(IntProgress(value=0, max=40), HTML(value='')))"
      ]
     },
     "metadata": {},
     "output_type": "display_data"
    },
    {
     "name": "stdout",
     "output_type": "stream",
     "text": [
      "\n",
      "generator loss : 1.3089, discriminator loss : 0.0464, predictor loss  0.3798\n",
      "[81/200]\n"
     ]
    },
    {
     "data": {
      "application/vnd.jupyter.widget-view+json": {
       "model_id": "463731a165ed45ccbbbc40c80bf79224",
       "version_major": 2,
       "version_minor": 0
      },
      "text/plain": [
       "HBox(children=(IntProgress(value=0, max=40), HTML(value='')))"
      ]
     },
     "metadata": {},
     "output_type": "display_data"
    },
    {
     "name": "stdout",
     "output_type": "stream",
     "text": [
      "\n",
      "generator loss : 1.2711, discriminator loss : 0.0374, predictor loss  0.3798\n",
      "[82/200]\n"
     ]
    },
    {
     "data": {
      "application/vnd.jupyter.widget-view+json": {
       "model_id": "151da402d6fd4942b127418839117115",
       "version_major": 2,
       "version_minor": 0
      },
      "text/plain": [
       "HBox(children=(IntProgress(value=0, max=40), HTML(value='')))"
      ]
     },
     "metadata": {},
     "output_type": "display_data"
    },
    {
     "name": "stdout",
     "output_type": "stream",
     "text": [
      "\n",
      "generator loss : 1.2401, discriminator loss : 0.0319, predictor loss  0.3798\n",
      "[83/200]\n"
     ]
    },
    {
     "data": {
      "application/vnd.jupyter.widget-view+json": {
       "model_id": "062800854c1d4536a55140cbd303501b",
       "version_major": 2,
       "version_minor": 0
      },
      "text/plain": [
       "HBox(children=(IntProgress(value=0, max=40), HTML(value='')))"
      ]
     },
     "metadata": {},
     "output_type": "display_data"
    },
    {
     "name": "stdout",
     "output_type": "stream",
     "text": [
      "\n",
      "generator loss : 1.2480, discriminator loss : 0.0309, predictor loss  0.3798\n",
      "[84/200]\n"
     ]
    },
    {
     "data": {
      "application/vnd.jupyter.widget-view+json": {
       "model_id": "273a71813de34c09857341cd96ff6b42",
       "version_major": 2,
       "version_minor": 0
      },
      "text/plain": [
       "HBox(children=(IntProgress(value=0, max=40), HTML(value='')))"
      ]
     },
     "metadata": {},
     "output_type": "display_data"
    },
    {
     "name": "stdout",
     "output_type": "stream",
     "text": [
      "\n",
      "generator loss : 1.2524, discriminator loss : 0.0326, predictor loss  0.3798\n",
      "[85/200]\n"
     ]
    },
    {
     "data": {
      "application/vnd.jupyter.widget-view+json": {
       "model_id": "805c03e50d5f43a09b9396ab30164622",
       "version_major": 2,
       "version_minor": 0
      },
      "text/plain": [
       "HBox(children=(IntProgress(value=0, max=40), HTML(value='')))"
      ]
     },
     "metadata": {},
     "output_type": "display_data"
    },
    {
     "name": "stdout",
     "output_type": "stream",
     "text": [
      "\n",
      "generator loss : 1.3327, discriminator loss : 0.0463, predictor loss  0.3798\n",
      "[86/200]\n"
     ]
    },
    {
     "data": {
      "application/vnd.jupyter.widget-view+json": {
       "model_id": "4a59da1f99714055a781d5dc6a421fc4",
       "version_major": 2,
       "version_minor": 0
      },
      "text/plain": [
       "HBox(children=(IntProgress(value=0, max=40), HTML(value='')))"
      ]
     },
     "metadata": {},
     "output_type": "display_data"
    },
    {
     "name": "stdout",
     "output_type": "stream",
     "text": [
      "\n",
      "generator loss : 1.2887, discriminator loss : 0.0395, predictor loss  0.3798\n",
      "[87/200]\n"
     ]
    },
    {
     "data": {
      "application/vnd.jupyter.widget-view+json": {
       "model_id": "161c202e7c8147c2af451455179e3e4d",
       "version_major": 2,
       "version_minor": 0
      },
      "text/plain": [
       "HBox(children=(IntProgress(value=0, max=40), HTML(value='')))"
      ]
     },
     "metadata": {},
     "output_type": "display_data"
    },
    {
     "name": "stdout",
     "output_type": "stream",
     "text": [
      "\n",
      "generator loss : 1.2869, discriminator loss : 0.0374, predictor loss  0.3798\n",
      "[88/200]\n"
     ]
    },
    {
     "data": {
      "application/vnd.jupyter.widget-view+json": {
       "model_id": "96a89ccdbe444b38ac337115f350c87f",
       "version_major": 2,
       "version_minor": 0
      },
      "text/plain": [
       "HBox(children=(IntProgress(value=0, max=40), HTML(value='')))"
      ]
     },
     "metadata": {},
     "output_type": "display_data"
    },
    {
     "name": "stdout",
     "output_type": "stream",
     "text": [
      "\n",
      "generator loss : 1.2640, discriminator loss : 0.0304, predictor loss  0.3798\n",
      "[89/200]\n"
     ]
    },
    {
     "data": {
      "application/vnd.jupyter.widget-view+json": {
       "model_id": "7a43818eb01c4012ab304fbbad6bd10f",
       "version_major": 2,
       "version_minor": 0
      },
      "text/plain": [
       "HBox(children=(IntProgress(value=0, max=40), HTML(value='')))"
      ]
     },
     "metadata": {},
     "output_type": "display_data"
    },
    {
     "name": "stdout",
     "output_type": "stream",
     "text": [
      "\n",
      "generator loss : 1.3061, discriminator loss : 0.0416, predictor loss  0.3798\n",
      "[90/200]\n"
     ]
    },
    {
     "data": {
      "application/vnd.jupyter.widget-view+json": {
       "model_id": "760f25028f1d491ca90129912933a7c1",
       "version_major": 2,
       "version_minor": 0
      },
      "text/plain": [
       "HBox(children=(IntProgress(value=0, max=40), HTML(value='')))"
      ]
     },
     "metadata": {},
     "output_type": "display_data"
    },
    {
     "name": "stdout",
     "output_type": "stream",
     "text": [
      "\n",
      "generator loss : 1.3761, discriminator loss : 0.0642, predictor loss  0.3798\n",
      "[91/200]\n"
     ]
    },
    {
     "data": {
      "application/vnd.jupyter.widget-view+json": {
       "model_id": "823780e6662c4b888fe58c760ac3531e",
       "version_major": 2,
       "version_minor": 0
      },
      "text/plain": [
       "HBox(children=(IntProgress(value=0, max=40), HTML(value='')))"
      ]
     },
     "metadata": {},
     "output_type": "display_data"
    },
    {
     "name": "stdout",
     "output_type": "stream",
     "text": [
      "\n",
      "generator loss : 1.4400, discriminator loss : 0.0542, predictor loss  0.3798\n",
      "[92/200]\n"
     ]
    },
    {
     "data": {
      "application/vnd.jupyter.widget-view+json": {
       "model_id": "0fc0b7a447f140019ae87fd5c66ae03b",
       "version_major": 2,
       "version_minor": 0
      },
      "text/plain": [
       "HBox(children=(IntProgress(value=0, max=40), HTML(value='')))"
      ]
     },
     "metadata": {},
     "output_type": "display_data"
    },
    {
     "name": "stdout",
     "output_type": "stream",
     "text": [
      "\n",
      "generator loss : 1.3493, discriminator loss : 0.0335, predictor loss  0.3798\n",
      "[93/200]\n"
     ]
    },
    {
     "data": {
      "application/vnd.jupyter.widget-view+json": {
       "model_id": "670ed434a4854a7eab9ce4ae71feb8c5",
       "version_major": 2,
       "version_minor": 0
      },
      "text/plain": [
       "HBox(children=(IntProgress(value=0, max=40), HTML(value='')))"
      ]
     },
     "metadata": {},
     "output_type": "display_data"
    },
    {
     "name": "stdout",
     "output_type": "stream",
     "text": [
      "\n",
      "generator loss : 1.3291, discriminator loss : 0.0365, predictor loss  0.3798\n",
      "[94/200]\n"
     ]
    },
    {
     "data": {
      "application/vnd.jupyter.widget-view+json": {
       "model_id": "e7b90fcd23da41fc8bb7438f9126b4bd",
       "version_major": 2,
       "version_minor": 0
      },
      "text/plain": [
       "HBox(children=(IntProgress(value=0, max=40), HTML(value='')))"
      ]
     },
     "metadata": {},
     "output_type": "display_data"
    },
    {
     "name": "stdout",
     "output_type": "stream",
     "text": [
      "\n",
      "generator loss : 1.3527, discriminator loss : 0.0301, predictor loss  0.3798\n",
      "[95/200]\n"
     ]
    },
    {
     "data": {
      "application/vnd.jupyter.widget-view+json": {
       "model_id": "94bc3c3a7fe143cbb8d2f67de2b7358d",
       "version_major": 2,
       "version_minor": 0
      },
      "text/plain": [
       "HBox(children=(IntProgress(value=0, max=40), HTML(value='')))"
      ]
     },
     "metadata": {},
     "output_type": "display_data"
    },
    {
     "name": "stdout",
     "output_type": "stream",
     "text": [
      "\n",
      "generator loss : 1.3561, discriminator loss : 0.0437, predictor loss  0.3798\n",
      "[96/200]\n"
     ]
    },
    {
     "data": {
      "application/vnd.jupyter.widget-view+json": {
       "model_id": "66bba369cc234afea376de614a206de4",
       "version_major": 2,
       "version_minor": 0
      },
      "text/plain": [
       "HBox(children=(IntProgress(value=0, max=40), HTML(value='')))"
      ]
     },
     "metadata": {},
     "output_type": "display_data"
    },
    {
     "name": "stdout",
     "output_type": "stream",
     "text": [
      "\n",
      "generator loss : 1.3840, discriminator loss : 0.0290, predictor loss  0.3798\n",
      "[97/200]\n"
     ]
    },
    {
     "data": {
      "application/vnd.jupyter.widget-view+json": {
       "model_id": "66602f9102f8411198b32edd230f4cd6",
       "version_major": 2,
       "version_minor": 0
      },
      "text/plain": [
       "HBox(children=(IntProgress(value=0, max=40), HTML(value='')))"
      ]
     },
     "metadata": {},
     "output_type": "display_data"
    },
    {
     "name": "stdout",
     "output_type": "stream",
     "text": [
      "\n",
      "generator loss : 1.4041, discriminator loss : 0.0605, predictor loss  0.3798\n",
      "[98/200]\n"
     ]
    },
    {
     "data": {
      "application/vnd.jupyter.widget-view+json": {
       "model_id": "6aecdec0ee174f98beab433f32d04cec",
       "version_major": 2,
       "version_minor": 0
      },
      "text/plain": [
       "HBox(children=(IntProgress(value=0, max=40), HTML(value='')))"
      ]
     },
     "metadata": {},
     "output_type": "display_data"
    },
    {
     "name": "stdout",
     "output_type": "stream",
     "text": [
      "\n",
      "generator loss : 1.4710, discriminator loss : 0.0423, predictor loss  0.3798\n",
      "[99/200]\n"
     ]
    },
    {
     "data": {
      "application/vnd.jupyter.widget-view+json": {
       "model_id": "385c47ffbed043d1ac75f75a97f7b5bc",
       "version_major": 2,
       "version_minor": 0
      },
      "text/plain": [
       "HBox(children=(IntProgress(value=0, max=40), HTML(value='')))"
      ]
     },
     "metadata": {},
     "output_type": "display_data"
    },
    {
     "name": "stdout",
     "output_type": "stream",
     "text": [
      "\n",
      "generator loss : 1.5230, discriminator loss : 0.0583, predictor loss  0.3798\n",
      "[100/200]\n"
     ]
    },
    {
     "data": {
      "application/vnd.jupyter.widget-view+json": {
       "model_id": "05c13e425fc04280b963397304a14178",
       "version_major": 2,
       "version_minor": 0
      },
      "text/plain": [
       "HBox(children=(IntProgress(value=0, max=40), HTML(value='')))"
      ]
     },
     "metadata": {},
     "output_type": "display_data"
    },
    {
     "name": "stdout",
     "output_type": "stream",
     "text": [
      "\n",
      "generator loss : 1.5403, discriminator loss : 0.0547, predictor loss  0.3798\n",
      "[101/200]\n"
     ]
    },
    {
     "data": {
      "application/vnd.jupyter.widget-view+json": {
       "model_id": "26ebcb05002345bd99deeb5711372d7e",
       "version_major": 2,
       "version_minor": 0
      },
      "text/plain": [
       "HBox(children=(IntProgress(value=0, max=40), HTML(value='')))"
      ]
     },
     "metadata": {},
     "output_type": "display_data"
    },
    {
     "name": "stdout",
     "output_type": "stream",
     "text": [
      "\n",
      "generator loss : 1.5280, discriminator loss : 0.0298, predictor loss  0.3798\n",
      "[102/200]\n"
     ]
    },
    {
     "data": {
      "application/vnd.jupyter.widget-view+json": {
       "model_id": "9c589a1b17c04dff9286bb749adc1d82",
       "version_major": 2,
       "version_minor": 0
      },
      "text/plain": [
       "HBox(children=(IntProgress(value=0, max=40), HTML(value='')))"
      ]
     },
     "metadata": {},
     "output_type": "display_data"
    },
    {
     "name": "stdout",
     "output_type": "stream",
     "text": [
      "\n",
      "generator loss : 1.4733, discriminator loss : 0.0364, predictor loss  0.3798\n",
      "[103/200]\n"
     ]
    },
    {
     "data": {
      "application/vnd.jupyter.widget-view+json": {
       "model_id": "67996b0ff791457790b219b11f098251",
       "version_major": 2,
       "version_minor": 0
      },
      "text/plain": [
       "HBox(children=(IntProgress(value=0, max=40), HTML(value='')))"
      ]
     },
     "metadata": {},
     "output_type": "display_data"
    },
    {
     "name": "stdout",
     "output_type": "stream",
     "text": [
      "\n",
      "generator loss : 1.4885, discriminator loss : 0.0336, predictor loss  0.3798\n",
      "[104/200]\n"
     ]
    },
    {
     "data": {
      "application/vnd.jupyter.widget-view+json": {
       "model_id": "cd45064b2e844d54bd3d8879438c129a",
       "version_major": 2,
       "version_minor": 0
      },
      "text/plain": [
       "HBox(children=(IntProgress(value=0, max=40), HTML(value='')))"
      ]
     },
     "metadata": {},
     "output_type": "display_data"
    },
    {
     "name": "stdout",
     "output_type": "stream",
     "text": [
      "\n",
      "generator loss : 1.3970, discriminator loss : 0.0468, predictor loss  0.3798\n",
      "[105/200]\n"
     ]
    },
    {
     "data": {
      "application/vnd.jupyter.widget-view+json": {
       "model_id": "8b72a618bb61402f9a0f1ad84cdae67b",
       "version_major": 2,
       "version_minor": 0
      },
      "text/plain": [
       "HBox(children=(IntProgress(value=0, max=40), HTML(value='')))"
      ]
     },
     "metadata": {},
     "output_type": "display_data"
    },
    {
     "name": "stdout",
     "output_type": "stream",
     "text": [
      "\n",
      "generator loss : 1.3852, discriminator loss : 0.0329, predictor loss  0.3798\n",
      "[106/200]\n"
     ]
    },
    {
     "data": {
      "application/vnd.jupyter.widget-view+json": {
       "model_id": "354216bba84047ba8ed30ce9d04ccda8",
       "version_major": 2,
       "version_minor": 0
      },
      "text/plain": [
       "HBox(children=(IntProgress(value=0, max=40), HTML(value='')))"
      ]
     },
     "metadata": {},
     "output_type": "display_data"
    },
    {
     "name": "stdout",
     "output_type": "stream",
     "text": [
      "\n",
      "generator loss : 1.4065, discriminator loss : 0.0280, predictor loss  0.3798\n",
      "[107/200]\n"
     ]
    },
    {
     "data": {
      "application/vnd.jupyter.widget-view+json": {
       "model_id": "eaa476fadc0847b9a448cca632e33f88",
       "version_major": 2,
       "version_minor": 0
      },
      "text/plain": [
       "HBox(children=(IntProgress(value=0, max=40), HTML(value='')))"
      ]
     },
     "metadata": {},
     "output_type": "display_data"
    },
    {
     "name": "stdout",
     "output_type": "stream",
     "text": [
      "\n",
      "generator loss : 1.4149, discriminator loss : 0.0305, predictor loss  0.3798\n",
      "[108/200]\n"
     ]
    },
    {
     "data": {
      "application/vnd.jupyter.widget-view+json": {
       "model_id": "8fd05d444bc445f3bba4544b2e4b0290",
       "version_major": 2,
       "version_minor": 0
      },
      "text/plain": [
       "HBox(children=(IntProgress(value=0, max=40), HTML(value='')))"
      ]
     },
     "metadata": {},
     "output_type": "display_data"
    },
    {
     "name": "stdout",
     "output_type": "stream",
     "text": [
      "\n",
      "generator loss : 1.4392, discriminator loss : 0.0245, predictor loss  0.3798\n",
      "[109/200]\n"
     ]
    },
    {
     "data": {
      "application/vnd.jupyter.widget-view+json": {
       "model_id": "9cb912d861c040dcae4b18ffe829cd74",
       "version_major": 2,
       "version_minor": 0
      },
      "text/plain": [
       "HBox(children=(IntProgress(value=0, max=40), HTML(value='')))"
      ]
     },
     "metadata": {},
     "output_type": "display_data"
    },
    {
     "name": "stdout",
     "output_type": "stream",
     "text": [
      "\n",
      "generator loss : 1.4698, discriminator loss : 0.0339, predictor loss  0.3798\n",
      "[110/200]\n"
     ]
    },
    {
     "data": {
      "application/vnd.jupyter.widget-view+json": {
       "model_id": "03c58beb4c6944f596e80b1611e9f73a",
       "version_major": 2,
       "version_minor": 0
      },
      "text/plain": [
       "HBox(children=(IntProgress(value=0, max=40), HTML(value='')))"
      ]
     },
     "metadata": {},
     "output_type": "display_data"
    },
    {
     "name": "stdout",
     "output_type": "stream",
     "text": [
      "\n",
      "generator loss : 1.4344, discriminator loss : 0.0279, predictor loss  0.3798\n",
      "[111/200]\n"
     ]
    },
    {
     "data": {
      "application/vnd.jupyter.widget-view+json": {
       "model_id": "e00b1866ea4243c7b5e9bf647a0e07c1",
       "version_major": 2,
       "version_minor": 0
      },
      "text/plain": [
       "HBox(children=(IntProgress(value=0, max=40), HTML(value='')))"
      ]
     },
     "metadata": {},
     "output_type": "display_data"
    },
    {
     "name": "stdout",
     "output_type": "stream",
     "text": [
      "\n",
      "generator loss : 1.4459, discriminator loss : 0.0343, predictor loss  0.3798\n",
      "[112/200]\n"
     ]
    },
    {
     "data": {
      "application/vnd.jupyter.widget-view+json": {
       "model_id": "e4dada4e9dc845c6bff3568a61ce583d",
       "version_major": 2,
       "version_minor": 0
      },
      "text/plain": [
       "HBox(children=(IntProgress(value=0, max=40), HTML(value='')))"
      ]
     },
     "metadata": {},
     "output_type": "display_data"
    },
    {
     "name": "stdout",
     "output_type": "stream",
     "text": [
      "\n",
      "generator loss : 1.4231, discriminator loss : 0.0337, predictor loss  0.3798\n",
      "[113/200]\n"
     ]
    },
    {
     "data": {
      "application/vnd.jupyter.widget-view+json": {
       "model_id": "8776f62a6bc346ae9e277fd3fe2eece1",
       "version_major": 2,
       "version_minor": 0
      },
      "text/plain": [
       "HBox(children=(IntProgress(value=0, max=40), HTML(value='')))"
      ]
     },
     "metadata": {},
     "output_type": "display_data"
    },
    {
     "name": "stdout",
     "output_type": "stream",
     "text": [
      "\n",
      "generator loss : 1.4676, discriminator loss : 0.0326, predictor loss  0.3798\n",
      "[114/200]\n"
     ]
    },
    {
     "data": {
      "application/vnd.jupyter.widget-view+json": {
       "model_id": "1b8a351a1f64419b826037c64c6d6d2a",
       "version_major": 2,
       "version_minor": 0
      },
      "text/plain": [
       "HBox(children=(IntProgress(value=0, max=40), HTML(value='')))"
      ]
     },
     "metadata": {},
     "output_type": "display_data"
    },
    {
     "name": "stdout",
     "output_type": "stream",
     "text": [
      "\n",
      "generator loss : 1.4889, discriminator loss : 0.0333, predictor loss  0.3798\n",
      "[115/200]\n"
     ]
    },
    {
     "data": {
      "application/vnd.jupyter.widget-view+json": {
       "model_id": "662a4043af7b4c65b41fe6a91a00d29f",
       "version_major": 2,
       "version_minor": 0
      },
      "text/plain": [
       "HBox(children=(IntProgress(value=0, max=40), HTML(value='')))"
      ]
     },
     "metadata": {},
     "output_type": "display_data"
    },
    {
     "name": "stdout",
     "output_type": "stream",
     "text": [
      "\n",
      "generator loss : 1.4950, discriminator loss : 0.0329, predictor loss  0.3798\n",
      "[116/200]\n"
     ]
    },
    {
     "data": {
      "application/vnd.jupyter.widget-view+json": {
       "model_id": "35518f044dff412b8c8b2a42b857d35d",
       "version_major": 2,
       "version_minor": 0
      },
      "text/plain": [
       "HBox(children=(IntProgress(value=0, max=40), HTML(value='')))"
      ]
     },
     "metadata": {},
     "output_type": "display_data"
    },
    {
     "name": "stdout",
     "output_type": "stream",
     "text": [
      "\n",
      "generator loss : 1.4369, discriminator loss : 0.0355, predictor loss  0.3798\n",
      "[117/200]\n"
     ]
    },
    {
     "data": {
      "application/vnd.jupyter.widget-view+json": {
       "model_id": "84c0cbe3abf6468bbd3fd18b048ebaea",
       "version_major": 2,
       "version_minor": 0
      },
      "text/plain": [
       "HBox(children=(IntProgress(value=0, max=40), HTML(value='')))"
      ]
     },
     "metadata": {},
     "output_type": "display_data"
    },
    {
     "name": "stdout",
     "output_type": "stream",
     "text": [
      "\n",
      "generator loss : 1.4159, discriminator loss : 0.0307, predictor loss  0.3798\n",
      "[118/200]\n"
     ]
    },
    {
     "data": {
      "application/vnd.jupyter.widget-view+json": {
       "model_id": "15f6b2e162a34a298d5782d99154a537",
       "version_major": 2,
       "version_minor": 0
      },
      "text/plain": [
       "HBox(children=(IntProgress(value=0, max=40), HTML(value='')))"
      ]
     },
     "metadata": {},
     "output_type": "display_data"
    },
    {
     "name": "stdout",
     "output_type": "stream",
     "text": [
      "\n",
      "generator loss : 1.4894, discriminator loss : 0.0339, predictor loss  0.3798\n",
      "[119/200]\n"
     ]
    },
    {
     "data": {
      "application/vnd.jupyter.widget-view+json": {
       "model_id": "d96a83bfc03a4a7590b5e57941bac16a",
       "version_major": 2,
       "version_minor": 0
      },
      "text/plain": [
       "HBox(children=(IntProgress(value=0, max=40), HTML(value='')))"
      ]
     },
     "metadata": {},
     "output_type": "display_data"
    },
    {
     "name": "stdout",
     "output_type": "stream",
     "text": [
      "\n",
      "generator loss : 1.4894, discriminator loss : 0.0329, predictor loss  0.3798\n",
      "[120/200]\n"
     ]
    },
    {
     "data": {
      "application/vnd.jupyter.widget-view+json": {
       "model_id": "28ee9990e388446c9972a1e596bb0c37",
       "version_major": 2,
       "version_minor": 0
      },
      "text/plain": [
       "HBox(children=(IntProgress(value=0, max=40), HTML(value='')))"
      ]
     },
     "metadata": {},
     "output_type": "display_data"
    },
    {
     "name": "stdout",
     "output_type": "stream",
     "text": [
      "\n",
      "generator loss : 1.4508, discriminator loss : 0.0330, predictor loss  0.3798\n",
      "[121/200]\n"
     ]
    },
    {
     "data": {
      "application/vnd.jupyter.widget-view+json": {
       "model_id": "7980d8904f914952a71c2ea84083ed00",
       "version_major": 2,
       "version_minor": 0
      },
      "text/plain": [
       "HBox(children=(IntProgress(value=0, max=40), HTML(value='')))"
      ]
     },
     "metadata": {},
     "output_type": "display_data"
    },
    {
     "name": "stdout",
     "output_type": "stream",
     "text": [
      "\n",
      "generator loss : 1.4250, discriminator loss : 0.0326, predictor loss  0.3798\n",
      "[122/200]\n"
     ]
    },
    {
     "data": {
      "application/vnd.jupyter.widget-view+json": {
       "model_id": "190de7261add424c97a63ee9e3e8f382",
       "version_major": 2,
       "version_minor": 0
      },
      "text/plain": [
       "HBox(children=(IntProgress(value=0, max=40), HTML(value='')))"
      ]
     },
     "metadata": {},
     "output_type": "display_data"
    },
    {
     "name": "stdout",
     "output_type": "stream",
     "text": [
      "\n",
      "generator loss : 1.4429, discriminator loss : 0.0327, predictor loss  0.3798\n",
      "[123/200]\n"
     ]
    },
    {
     "data": {
      "application/vnd.jupyter.widget-view+json": {
       "model_id": "d5a09be393c045bd903729e01081af11",
       "version_major": 2,
       "version_minor": 0
      },
      "text/plain": [
       "HBox(children=(IntProgress(value=0, max=40), HTML(value='')))"
      ]
     },
     "metadata": {},
     "output_type": "display_data"
    },
    {
     "name": "stdout",
     "output_type": "stream",
     "text": [
      "\n",
      "generator loss : 1.4299, discriminator loss : 0.0334, predictor loss  0.3798\n",
      "[124/200]\n"
     ]
    },
    {
     "data": {
      "application/vnd.jupyter.widget-view+json": {
       "model_id": "37826101f236424eafb0c4a9a61e4c3b",
       "version_major": 2,
       "version_minor": 0
      },
      "text/plain": [
       "HBox(children=(IntProgress(value=0, max=40), HTML(value='')))"
      ]
     },
     "metadata": {},
     "output_type": "display_data"
    },
    {
     "name": "stdout",
     "output_type": "stream",
     "text": [
      "\n",
      "generator loss : 1.4905, discriminator loss : 0.0359, predictor loss  0.3798\n",
      "[125/200]\n"
     ]
    },
    {
     "data": {
      "application/vnd.jupyter.widget-view+json": {
       "model_id": "4a62a99f31b541e892a4a8b5575d44d4",
       "version_major": 2,
       "version_minor": 0
      },
      "text/plain": [
       "HBox(children=(IntProgress(value=0, max=40), HTML(value='')))"
      ]
     },
     "metadata": {},
     "output_type": "display_data"
    },
    {
     "name": "stdout",
     "output_type": "stream",
     "text": [
      "\n",
      "generator loss : 1.4341, discriminator loss : 0.0351, predictor loss  0.3798\n",
      "[126/200]\n"
     ]
    },
    {
     "data": {
      "application/vnd.jupyter.widget-view+json": {
       "model_id": "35caf98e36cb4f7b9bbcaf0bff2fef98",
       "version_major": 2,
       "version_minor": 0
      },
      "text/plain": [
       "HBox(children=(IntProgress(value=0, max=40), HTML(value='')))"
      ]
     },
     "metadata": {},
     "output_type": "display_data"
    },
    {
     "name": "stdout",
     "output_type": "stream",
     "text": [
      "\n",
      "generator loss : 1.4664, discriminator loss : 0.0360, predictor loss  0.3798\n",
      "[127/200]\n"
     ]
    },
    {
     "data": {
      "application/vnd.jupyter.widget-view+json": {
       "model_id": "c862aa2f92a74bd29259c05f9ad35fcb",
       "version_major": 2,
       "version_minor": 0
      },
      "text/plain": [
       "HBox(children=(IntProgress(value=0, max=40), HTML(value='')))"
      ]
     },
     "metadata": {},
     "output_type": "display_data"
    },
    {
     "name": "stdout",
     "output_type": "stream",
     "text": [
      "\n",
      "generator loss : 1.4524, discriminator loss : 0.0332, predictor loss  0.3798\n",
      "[128/200]\n"
     ]
    },
    {
     "data": {
      "application/vnd.jupyter.widget-view+json": {
       "model_id": "f9b561c727954091982dc39f6c768754",
       "version_major": 2,
       "version_minor": 0
      },
      "text/plain": [
       "HBox(children=(IntProgress(value=0, max=40), HTML(value='')))"
      ]
     },
     "metadata": {},
     "output_type": "display_data"
    },
    {
     "name": "stdout",
     "output_type": "stream",
     "text": [
      "\n",
      "generator loss : 1.4463, discriminator loss : 0.0319, predictor loss  0.3798\n",
      "[129/200]\n"
     ]
    },
    {
     "data": {
      "application/vnd.jupyter.widget-view+json": {
       "model_id": "ef7a9290c3974ccd82f7430bd6e1cd47",
       "version_major": 2,
       "version_minor": 0
      },
      "text/plain": [
       "HBox(children=(IntProgress(value=0, max=40), HTML(value='')))"
      ]
     },
     "metadata": {},
     "output_type": "display_data"
    },
    {
     "name": "stdout",
     "output_type": "stream",
     "text": [
      "\n",
      "generator loss : 1.4557, discriminator loss : 0.0355, predictor loss  0.3798\n",
      "[130/200]\n"
     ]
    },
    {
     "data": {
      "application/vnd.jupyter.widget-view+json": {
       "model_id": "afb9c5dff3f545419e0543ceca277ed8",
       "version_major": 2,
       "version_minor": 0
      },
      "text/plain": [
       "HBox(children=(IntProgress(value=0, max=40), HTML(value='')))"
      ]
     },
     "metadata": {},
     "output_type": "display_data"
    },
    {
     "name": "stdout",
     "output_type": "stream",
     "text": [
      "\n",
      "generator loss : 1.4506, discriminator loss : 0.0362, predictor loss  0.3798\n",
      "[131/200]\n"
     ]
    },
    {
     "data": {
      "application/vnd.jupyter.widget-view+json": {
       "model_id": "0bc39decea414e269c592652e584c46b",
       "version_major": 2,
       "version_minor": 0
      },
      "text/plain": [
       "HBox(children=(IntProgress(value=0, max=40), HTML(value='')))"
      ]
     },
     "metadata": {},
     "output_type": "display_data"
    },
    {
     "name": "stdout",
     "output_type": "stream",
     "text": [
      "\n",
      "generator loss : 1.4680, discriminator loss : 0.0398, predictor loss  0.3798\n",
      "[132/200]\n"
     ]
    },
    {
     "data": {
      "application/vnd.jupyter.widget-view+json": {
       "model_id": "43b46f8555ca40e1a498f8046bb97608",
       "version_major": 2,
       "version_minor": 0
      },
      "text/plain": [
       "HBox(children=(IntProgress(value=0, max=40), HTML(value='')))"
      ]
     },
     "metadata": {},
     "output_type": "display_data"
    },
    {
     "name": "stdout",
     "output_type": "stream",
     "text": [
      "\n",
      "generator loss : 1.4806, discriminator loss : 0.0382, predictor loss  0.3798\n",
      "[133/200]\n"
     ]
    },
    {
     "data": {
      "application/vnd.jupyter.widget-view+json": {
       "model_id": "a9f479d040f244a28056086f8789ceb0",
       "version_major": 2,
       "version_minor": 0
      },
      "text/plain": [
       "HBox(children=(IntProgress(value=0, max=40), HTML(value='')))"
      ]
     },
     "metadata": {},
     "output_type": "display_data"
    },
    {
     "name": "stdout",
     "output_type": "stream",
     "text": [
      "\n",
      "generator loss : 1.4301, discriminator loss : 0.0346, predictor loss  0.3798\n",
      "[134/200]\n"
     ]
    },
    {
     "data": {
      "application/vnd.jupyter.widget-view+json": {
       "model_id": "aefd20f9e54b48faa148a57a105cb5e5",
       "version_major": 2,
       "version_minor": 0
      },
      "text/plain": [
       "HBox(children=(IntProgress(value=0, max=40), HTML(value='')))"
      ]
     },
     "metadata": {},
     "output_type": "display_data"
    },
    {
     "name": "stdout",
     "output_type": "stream",
     "text": [
      "\n",
      "generator loss : 1.4184, discriminator loss : 0.0380, predictor loss  0.3798\n",
      "[135/200]\n"
     ]
    },
    {
     "data": {
      "application/vnd.jupyter.widget-view+json": {
       "model_id": "42e57b758bfa4a5da150194e2b68c0d9",
       "version_major": 2,
       "version_minor": 0
      },
      "text/plain": [
       "HBox(children=(IntProgress(value=0, max=40), HTML(value='')))"
      ]
     },
     "metadata": {},
     "output_type": "display_data"
    },
    {
     "name": "stdout",
     "output_type": "stream",
     "text": [
      "\n",
      "generator loss : 1.4473, discriminator loss : 0.0417, predictor loss  0.3798\n",
      "[136/200]\n"
     ]
    },
    {
     "data": {
      "application/vnd.jupyter.widget-view+json": {
       "model_id": "b24b7ff4f71b43aaa3f51fdd3d1c25d3",
       "version_major": 2,
       "version_minor": 0
      },
      "text/plain": [
       "HBox(children=(IntProgress(value=0, max=40), HTML(value='')))"
      ]
     },
     "metadata": {},
     "output_type": "display_data"
    },
    {
     "name": "stdout",
     "output_type": "stream",
     "text": [
      "\n",
      "generator loss : 1.4393, discriminator loss : 0.0360, predictor loss  0.3798\n",
      "[137/200]\n"
     ]
    },
    {
     "data": {
      "application/vnd.jupyter.widget-view+json": {
       "model_id": "24507382920945f39d14d0db87d0d9e8",
       "version_major": 2,
       "version_minor": 0
      },
      "text/plain": [
       "HBox(children=(IntProgress(value=0, max=40), HTML(value='')))"
      ]
     },
     "metadata": {},
     "output_type": "display_data"
    },
    {
     "name": "stdout",
     "output_type": "stream",
     "text": [
      "\n",
      "generator loss : 1.4815, discriminator loss : 0.0612, predictor loss  0.3798\n",
      "[138/200]\n"
     ]
    },
    {
     "data": {
      "application/vnd.jupyter.widget-view+json": {
       "model_id": "f7e8478489d64cdeb64d4e444def877f",
       "version_major": 2,
       "version_minor": 0
      },
      "text/plain": [
       "HBox(children=(IntProgress(value=0, max=40), HTML(value='')))"
      ]
     },
     "metadata": {},
     "output_type": "display_data"
    },
    {
     "name": "stdout",
     "output_type": "stream",
     "text": [
      "\n",
      "generator loss : 1.4712, discriminator loss : 0.0492, predictor loss  0.3798\n",
      "[139/200]\n"
     ]
    },
    {
     "data": {
      "application/vnd.jupyter.widget-view+json": {
       "model_id": "e813ed1d7b8145cbb7166b5f105ca0a9",
       "version_major": 2,
       "version_minor": 0
      },
      "text/plain": [
       "HBox(children=(IntProgress(value=0, max=40), HTML(value='')))"
      ]
     },
     "metadata": {},
     "output_type": "display_data"
    },
    {
     "name": "stdout",
     "output_type": "stream",
     "text": [
      "\n",
      "generator loss : 1.4792, discriminator loss : 0.0359, predictor loss  0.3798\n",
      "[140/200]\n"
     ]
    },
    {
     "data": {
      "application/vnd.jupyter.widget-view+json": {
       "model_id": "a5352851527747409ab13381fd4049cc",
       "version_major": 2,
       "version_minor": 0
      },
      "text/plain": [
       "HBox(children=(IntProgress(value=0, max=40), HTML(value='')))"
      ]
     },
     "metadata": {},
     "output_type": "display_data"
    },
    {
     "name": "stdout",
     "output_type": "stream",
     "text": [
      "\n",
      "generator loss : 1.4478, discriminator loss : 0.0307, predictor loss  0.3798\n",
      "[141/200]\n"
     ]
    },
    {
     "data": {
      "application/vnd.jupyter.widget-view+json": {
       "model_id": "be680a6dde794e4fb0fd351235f22d4a",
       "version_major": 2,
       "version_minor": 0
      },
      "text/plain": [
       "HBox(children=(IntProgress(value=0, max=40), HTML(value='')))"
      ]
     },
     "metadata": {},
     "output_type": "display_data"
    },
    {
     "name": "stdout",
     "output_type": "stream",
     "text": [
      "\n",
      "generator loss : 1.4560, discriminator loss : 0.0341, predictor loss  0.3798\n",
      "[142/200]\n"
     ]
    },
    {
     "data": {
      "application/vnd.jupyter.widget-view+json": {
       "model_id": "3f80ec5c23464cb09fb1c70160f6cbcf",
       "version_major": 2,
       "version_minor": 0
      },
      "text/plain": [
       "HBox(children=(IntProgress(value=0, max=40), HTML(value='')))"
      ]
     },
     "metadata": {},
     "output_type": "display_data"
    },
    {
     "name": "stdout",
     "output_type": "stream",
     "text": [
      "\n",
      "generator loss : 1.4267, discriminator loss : 0.0321, predictor loss  0.3798\n",
      "[143/200]\n"
     ]
    },
    {
     "data": {
      "application/vnd.jupyter.widget-view+json": {
       "model_id": "b6c22801851446a1833323aae836e7cd",
       "version_major": 2,
       "version_minor": 0
      },
      "text/plain": [
       "HBox(children=(IntProgress(value=0, max=40), HTML(value='')))"
      ]
     },
     "metadata": {},
     "output_type": "display_data"
    },
    {
     "name": "stdout",
     "output_type": "stream",
     "text": [
      "\n",
      "generator loss : 1.5094, discriminator loss : 0.0396, predictor loss  0.3798\n",
      "[144/200]\n"
     ]
    },
    {
     "data": {
      "application/vnd.jupyter.widget-view+json": {
       "model_id": "b0bbf111c2564d1c9cc9f02e0baed8fa",
       "version_major": 2,
       "version_minor": 0
      },
      "text/plain": [
       "HBox(children=(IntProgress(value=0, max=40), HTML(value='')))"
      ]
     },
     "metadata": {},
     "output_type": "display_data"
    },
    {
     "name": "stdout",
     "output_type": "stream",
     "text": [
      "\n",
      "generator loss : 1.4656, discriminator loss : 0.0388, predictor loss  0.3798\n",
      "[145/200]\n"
     ]
    },
    {
     "data": {
      "application/vnd.jupyter.widget-view+json": {
       "model_id": "32e9fa4d6e8f49adb3d2b716961288bd",
       "version_major": 2,
       "version_minor": 0
      },
      "text/plain": [
       "HBox(children=(IntProgress(value=0, max=40), HTML(value='')))"
      ]
     },
     "metadata": {},
     "output_type": "display_data"
    },
    {
     "name": "stdout",
     "output_type": "stream",
     "text": [
      "\n",
      "generator loss : 1.4212, discriminator loss : 0.0328, predictor loss  0.3798\n",
      "[146/200]\n"
     ]
    },
    {
     "data": {
      "application/vnd.jupyter.widget-view+json": {
       "model_id": "36c69d32075d4e27a65820ad1c621396",
       "version_major": 2,
       "version_minor": 0
      },
      "text/plain": [
       "HBox(children=(IntProgress(value=0, max=40), HTML(value='')))"
      ]
     },
     "metadata": {},
     "output_type": "display_data"
    },
    {
     "name": "stdout",
     "output_type": "stream",
     "text": [
      "\n",
      "generator loss : 1.4704, discriminator loss : 0.0395, predictor loss  0.3798\n",
      "[147/200]\n"
     ]
    },
    {
     "data": {
      "application/vnd.jupyter.widget-view+json": {
       "model_id": "617d678f2546470f9040928ad21b646b",
       "version_major": 2,
       "version_minor": 0
      },
      "text/plain": [
       "HBox(children=(IntProgress(value=0, max=40), HTML(value='')))"
      ]
     },
     "metadata": {},
     "output_type": "display_data"
    },
    {
     "name": "stdout",
     "output_type": "stream",
     "text": [
      "\n",
      "generator loss : 1.4390, discriminator loss : 0.0291, predictor loss  0.3798\n",
      "[148/200]\n"
     ]
    },
    {
     "data": {
      "application/vnd.jupyter.widget-view+json": {
       "model_id": "2b7019107c374404a3275fc2d66397f9",
       "version_major": 2,
       "version_minor": 0
      },
      "text/plain": [
       "HBox(children=(IntProgress(value=0, max=40), HTML(value='')))"
      ]
     },
     "metadata": {},
     "output_type": "display_data"
    },
    {
     "name": "stdout",
     "output_type": "stream",
     "text": [
      "\n",
      "generator loss : 1.5018, discriminator loss : 0.0409, predictor loss  0.3798\n",
      "[149/200]\n"
     ]
    },
    {
     "data": {
      "application/vnd.jupyter.widget-view+json": {
       "model_id": "9407c7c7fe964a30927893024d8caea4",
       "version_major": 2,
       "version_minor": 0
      },
      "text/plain": [
       "HBox(children=(IntProgress(value=0, max=40), HTML(value='')))"
      ]
     },
     "metadata": {},
     "output_type": "display_data"
    },
    {
     "name": "stdout",
     "output_type": "stream",
     "text": [
      "\n",
      "generator loss : 1.5561, discriminator loss : 0.0521, predictor loss  0.3798\n",
      "[150/200]\n"
     ]
    },
    {
     "data": {
      "application/vnd.jupyter.widget-view+json": {
       "model_id": "74983d3c4e4949e590ed3c8fa0b6bf89",
       "version_major": 2,
       "version_minor": 0
      },
      "text/plain": [
       "HBox(children=(IntProgress(value=0, max=40), HTML(value='')))"
      ]
     },
     "metadata": {},
     "output_type": "display_data"
    },
    {
     "name": "stdout",
     "output_type": "stream",
     "text": [
      "\n",
      "generator loss : 1.5559, discriminator loss : 0.0560, predictor loss  0.3798\n",
      "[151/200]\n"
     ]
    },
    {
     "data": {
      "application/vnd.jupyter.widget-view+json": {
       "model_id": "9844610f18434a65b979202babb5693f",
       "version_major": 2,
       "version_minor": 0
      },
      "text/plain": [
       "HBox(children=(IntProgress(value=0, max=40), HTML(value='')))"
      ]
     },
     "metadata": {},
     "output_type": "display_data"
    },
    {
     "name": "stdout",
     "output_type": "stream",
     "text": [
      "\n",
      "generator loss : 1.4448, discriminator loss : 0.0404, predictor loss  0.3798\n",
      "[152/200]\n"
     ]
    },
    {
     "data": {
      "application/vnd.jupyter.widget-view+json": {
       "model_id": "f20d2357bfc54860aedc85e844760a83",
       "version_major": 2,
       "version_minor": 0
      },
      "text/plain": [
       "HBox(children=(IntProgress(value=0, max=40), HTML(value='')))"
      ]
     },
     "metadata": {},
     "output_type": "display_data"
    },
    {
     "name": "stdout",
     "output_type": "stream",
     "text": [
      "\n",
      "generator loss : 1.4713, discriminator loss : 0.0368, predictor loss  0.3798\n",
      "[153/200]\n"
     ]
    },
    {
     "data": {
      "application/vnd.jupyter.widget-view+json": {
       "model_id": "41905081c0624a7b94f02bd39db3fb28",
       "version_major": 2,
       "version_minor": 0
      },
      "text/plain": [
       "HBox(children=(IntProgress(value=0, max=40), HTML(value='')))"
      ]
     },
     "metadata": {},
     "output_type": "display_data"
    },
    {
     "name": "stdout",
     "output_type": "stream",
     "text": [
      "\n",
      "generator loss : 1.3932, discriminator loss : 0.0286, predictor loss  0.3798\n",
      "[154/200]\n"
     ]
    },
    {
     "data": {
      "application/vnd.jupyter.widget-view+json": {
       "model_id": "78b99e2602594be29d10869778639a1b",
       "version_major": 2,
       "version_minor": 0
      },
      "text/plain": [
       "HBox(children=(IntProgress(value=0, max=40), HTML(value='')))"
      ]
     },
     "metadata": {},
     "output_type": "display_data"
    },
    {
     "name": "stdout",
     "output_type": "stream",
     "text": [
      "\n",
      "generator loss : 1.5002, discriminator loss : 0.0322, predictor loss  0.3798\n",
      "[155/200]\n"
     ]
    },
    {
     "data": {
      "application/vnd.jupyter.widget-view+json": {
       "model_id": "e6aa6e9850184019871049cb2fef5d7b",
       "version_major": 2,
       "version_minor": 0
      },
      "text/plain": [
       "HBox(children=(IntProgress(value=0, max=40), HTML(value='')))"
      ]
     },
     "metadata": {},
     "output_type": "display_data"
    },
    {
     "name": "stdout",
     "output_type": "stream",
     "text": [
      "\n",
      "generator loss : 1.4859, discriminator loss : 0.0348, predictor loss  0.3798\n",
      "[156/200]\n"
     ]
    },
    {
     "data": {
      "application/vnd.jupyter.widget-view+json": {
       "model_id": "b8b3ccf066024b95b03a22790dc3fc47",
       "version_major": 2,
       "version_minor": 0
      },
      "text/plain": [
       "HBox(children=(IntProgress(value=0, max=40), HTML(value='')))"
      ]
     },
     "metadata": {},
     "output_type": "display_data"
    },
    {
     "name": "stdout",
     "output_type": "stream",
     "text": [
      "\n",
      "generator loss : 1.5550, discriminator loss : 0.0402, predictor loss  0.3798\n",
      "[157/200]\n"
     ]
    },
    {
     "data": {
      "application/vnd.jupyter.widget-view+json": {
       "model_id": "8974a2b8627d4d7bafa81e01fdf89fb8",
       "version_major": 2,
       "version_minor": 0
      },
      "text/plain": [
       "HBox(children=(IntProgress(value=0, max=40), HTML(value='')))"
      ]
     },
     "metadata": {},
     "output_type": "display_data"
    },
    {
     "name": "stdout",
     "output_type": "stream",
     "text": [
      "\n",
      "generator loss : 1.4358, discriminator loss : 0.0372, predictor loss  0.3798\n",
      "[158/200]\n"
     ]
    },
    {
     "data": {
      "application/vnd.jupyter.widget-view+json": {
       "model_id": "169adc87841247418d4158c1c02bc4bb",
       "version_major": 2,
       "version_minor": 0
      },
      "text/plain": [
       "HBox(children=(IntProgress(value=0, max=40), HTML(value='')))"
      ]
     },
     "metadata": {},
     "output_type": "display_data"
    },
    {
     "name": "stdout",
     "output_type": "stream",
     "text": [
      "\n",
      "generator loss : 1.4986, discriminator loss : 0.0411, predictor loss  0.3798\n",
      "[159/200]\n"
     ]
    },
    {
     "data": {
      "application/vnd.jupyter.widget-view+json": {
       "model_id": "b94f8d162daa4aa98ef00df994adac37",
       "version_major": 2,
       "version_minor": 0
      },
      "text/plain": [
       "HBox(children=(IntProgress(value=0, max=40), HTML(value='')))"
      ]
     },
     "metadata": {},
     "output_type": "display_data"
    },
    {
     "name": "stdout",
     "output_type": "stream",
     "text": [
      "\n",
      "generator loss : 1.4014, discriminator loss : 0.0296, predictor loss  0.3798\n",
      "[160/200]\n"
     ]
    },
    {
     "data": {
      "application/vnd.jupyter.widget-view+json": {
       "model_id": "e6460cc201064f4584db11b64eef76c4",
       "version_major": 2,
       "version_minor": 0
      },
      "text/plain": [
       "HBox(children=(IntProgress(value=0, max=40), HTML(value='')))"
      ]
     },
     "metadata": {},
     "output_type": "display_data"
    },
    {
     "name": "stdout",
     "output_type": "stream",
     "text": [
      "\n",
      "generator loss : 1.5097, discriminator loss : 0.0317, predictor loss  0.3798\n",
      "[161/200]\n"
     ]
    },
    {
     "data": {
      "application/vnd.jupyter.widget-view+json": {
       "model_id": "7ba0af5f95444f1a9a73894f1c2d1cfd",
       "version_major": 2,
       "version_minor": 0
      },
      "text/plain": [
       "HBox(children=(IntProgress(value=0, max=40), HTML(value='')))"
      ]
     },
     "metadata": {},
     "output_type": "display_data"
    },
    {
     "name": "stdout",
     "output_type": "stream",
     "text": [
      "\n",
      "generator loss : 1.5162, discriminator loss : 0.0363, predictor loss  0.3798\n",
      "[162/200]\n"
     ]
    },
    {
     "data": {
      "application/vnd.jupyter.widget-view+json": {
       "model_id": "28f7e16d6f9d4e888c75da59fbcc5a2f",
       "version_major": 2,
       "version_minor": 0
      },
      "text/plain": [
       "HBox(children=(IntProgress(value=0, max=40), HTML(value='')))"
      ]
     },
     "metadata": {},
     "output_type": "display_data"
    },
    {
     "name": "stdout",
     "output_type": "stream",
     "text": [
      "\n",
      "generator loss : 1.5127, discriminator loss : 0.0395, predictor loss  0.3798\n",
      "[163/200]\n"
     ]
    },
    {
     "data": {
      "application/vnd.jupyter.widget-view+json": {
       "model_id": "0818fac91c8446c784f19ca78dcdab1a",
       "version_major": 2,
       "version_minor": 0
      },
      "text/plain": [
       "HBox(children=(IntProgress(value=0, max=40), HTML(value='')))"
      ]
     },
     "metadata": {},
     "output_type": "display_data"
    },
    {
     "name": "stdout",
     "output_type": "stream",
     "text": [
      "\n",
      "generator loss : 1.5056, discriminator loss : 0.0408, predictor loss  0.3798\n",
      "[164/200]\n"
     ]
    },
    {
     "data": {
      "application/vnd.jupyter.widget-view+json": {
       "model_id": "972dddd93bb048139f0cf03df62d7410",
       "version_major": 2,
       "version_minor": 0
      },
      "text/plain": [
       "HBox(children=(IntProgress(value=0, max=40), HTML(value='')))"
      ]
     },
     "metadata": {},
     "output_type": "display_data"
    },
    {
     "name": "stdout",
     "output_type": "stream",
     "text": [
      "\n",
      "generator loss : 1.4263, discriminator loss : 0.0320, predictor loss  0.3798\n",
      "[165/200]\n"
     ]
    },
    {
     "data": {
      "application/vnd.jupyter.widget-view+json": {
       "model_id": "ffc79e3fde154868b76fea0dfc331723",
       "version_major": 2,
       "version_minor": 0
      },
      "text/plain": [
       "HBox(children=(IntProgress(value=0, max=40), HTML(value='')))"
      ]
     },
     "metadata": {},
     "output_type": "display_data"
    },
    {
     "name": "stdout",
     "output_type": "stream",
     "text": [
      "\n",
      "generator loss : 1.5423, discriminator loss : 0.0344, predictor loss  0.3798\n",
      "[166/200]\n"
     ]
    },
    {
     "data": {
      "application/vnd.jupyter.widget-view+json": {
       "model_id": "cae3c299ff5148d9b0a8471f564973c4",
       "version_major": 2,
       "version_minor": 0
      },
      "text/plain": [
       "HBox(children=(IntProgress(value=0, max=40), HTML(value='')))"
      ]
     },
     "metadata": {},
     "output_type": "display_data"
    },
    {
     "name": "stdout",
     "output_type": "stream",
     "text": [
      "\n",
      "generator loss : 1.4407, discriminator loss : 0.0393, predictor loss  0.3798\n",
      "[167/200]\n"
     ]
    },
    {
     "data": {
      "application/vnd.jupyter.widget-view+json": {
       "model_id": "362e90d1809b43b38379054ea2fb524a",
       "version_major": 2,
       "version_minor": 0
      },
      "text/plain": [
       "HBox(children=(IntProgress(value=0, max=40), HTML(value='')))"
      ]
     },
     "metadata": {},
     "output_type": "display_data"
    },
    {
     "name": "stdout",
     "output_type": "stream",
     "text": [
      "\n",
      "generator loss : 1.4452, discriminator loss : 0.0321, predictor loss  0.3798\n",
      "[168/200]\n"
     ]
    },
    {
     "data": {
      "application/vnd.jupyter.widget-view+json": {
       "model_id": "9a95149ae5d444d1bc9a4186acf72045",
       "version_major": 2,
       "version_minor": 0
      },
      "text/plain": [
       "HBox(children=(IntProgress(value=0, max=40), HTML(value='')))"
      ]
     },
     "metadata": {},
     "output_type": "display_data"
    },
    {
     "name": "stdout",
     "output_type": "stream",
     "text": [
      "\n",
      "generator loss : 1.5130, discriminator loss : 0.0318, predictor loss  0.3798\n",
      "[169/200]\n"
     ]
    },
    {
     "data": {
      "application/vnd.jupyter.widget-view+json": {
       "model_id": "6df6691b2dcf4aec94fc093f0b3bbbac",
       "version_major": 2,
       "version_minor": 0
      },
      "text/plain": [
       "HBox(children=(IntProgress(value=0, max=40), HTML(value='')))"
      ]
     },
     "metadata": {},
     "output_type": "display_data"
    },
    {
     "name": "stdout",
     "output_type": "stream",
     "text": [
      "\n",
      "generator loss : 1.5327, discriminator loss : 0.0570, predictor loss  0.3798\n",
      "[170/200]\n"
     ]
    },
    {
     "data": {
      "application/vnd.jupyter.widget-view+json": {
       "model_id": "4cfcfff227174556b0ed1efacd8ab19f",
       "version_major": 2,
       "version_minor": 0
      },
      "text/plain": [
       "HBox(children=(IntProgress(value=0, max=40), HTML(value='')))"
      ]
     },
     "metadata": {},
     "output_type": "display_data"
    },
    {
     "name": "stdout",
     "output_type": "stream",
     "text": [
      "\n",
      "generator loss : 1.5200, discriminator loss : 0.0350, predictor loss  0.3798\n",
      "[171/200]\n"
     ]
    },
    {
     "data": {
      "application/vnd.jupyter.widget-view+json": {
       "model_id": "b83d77f1336646c3b41b2c172128c588",
       "version_major": 2,
       "version_minor": 0
      },
      "text/plain": [
       "HBox(children=(IntProgress(value=0, max=40), HTML(value='')))"
      ]
     },
     "metadata": {},
     "output_type": "display_data"
    },
    {
     "name": "stdout",
     "output_type": "stream",
     "text": [
      "\n",
      "generator loss : 1.4837, discriminator loss : 0.0373, predictor loss  0.3798\n",
      "[172/200]\n"
     ]
    },
    {
     "data": {
      "application/vnd.jupyter.widget-view+json": {
       "model_id": "855766d7d6f74f8d8b6425be54ab57c1",
       "version_major": 2,
       "version_minor": 0
      },
      "text/plain": [
       "HBox(children=(IntProgress(value=0, max=40), HTML(value='')))"
      ]
     },
     "metadata": {},
     "output_type": "display_data"
    },
    {
     "name": "stdout",
     "output_type": "stream",
     "text": [
      "\n",
      "generator loss : 1.5014, discriminator loss : 0.0379, predictor loss  0.3798\n",
      "[173/200]\n"
     ]
    },
    {
     "data": {
      "application/vnd.jupyter.widget-view+json": {
       "model_id": "1d9ca29c14bc4c549fb3aaac1c93cf1c",
       "version_major": 2,
       "version_minor": 0
      },
      "text/plain": [
       "HBox(children=(IntProgress(value=0, max=40), HTML(value='')))"
      ]
     },
     "metadata": {},
     "output_type": "display_data"
    },
    {
     "name": "stdout",
     "output_type": "stream",
     "text": [
      "\n",
      "generator loss : 1.5274, discriminator loss : 0.0407, predictor loss  0.3798\n",
      "[174/200]\n"
     ]
    },
    {
     "data": {
      "application/vnd.jupyter.widget-view+json": {
       "model_id": "ac0e6c8ee1a543eda2038a7ddbc2acdf",
       "version_major": 2,
       "version_minor": 0
      },
      "text/plain": [
       "HBox(children=(IntProgress(value=0, max=40), HTML(value='')))"
      ]
     },
     "metadata": {},
     "output_type": "display_data"
    },
    {
     "name": "stdout",
     "output_type": "stream",
     "text": [
      "\n",
      "generator loss : 1.5332, discriminator loss : 0.0441, predictor loss  0.3798\n",
      "[175/200]\n"
     ]
    },
    {
     "data": {
      "application/vnd.jupyter.widget-view+json": {
       "model_id": "f38a8928963146509f9e850d924886fd",
       "version_major": 2,
       "version_minor": 0
      },
      "text/plain": [
       "HBox(children=(IntProgress(value=0, max=40), HTML(value='')))"
      ]
     },
     "metadata": {},
     "output_type": "display_data"
    },
    {
     "name": "stdout",
     "output_type": "stream",
     "text": [
      "\n",
      "generator loss : 1.5318, discriminator loss : 0.0544, predictor loss  0.3798\n",
      "[176/200]\n"
     ]
    },
    {
     "data": {
      "application/vnd.jupyter.widget-view+json": {
       "model_id": "90a717d210d047a0a49e83251b444ab6",
       "version_major": 2,
       "version_minor": 0
      },
      "text/plain": [
       "HBox(children=(IntProgress(value=0, max=40), HTML(value='')))"
      ]
     },
     "metadata": {},
     "output_type": "display_data"
    },
    {
     "name": "stdout",
     "output_type": "stream",
     "text": [
      "\n",
      "generator loss : 1.5567, discriminator loss : 0.0348, predictor loss  0.3798\n",
      "[177/200]\n"
     ]
    },
    {
     "data": {
      "application/vnd.jupyter.widget-view+json": {
       "model_id": "a481b2d46ac041b3ab76d1309ce8106c",
       "version_major": 2,
       "version_minor": 0
      },
      "text/plain": [
       "HBox(children=(IntProgress(value=0, max=40), HTML(value='')))"
      ]
     },
     "metadata": {},
     "output_type": "display_data"
    },
    {
     "name": "stdout",
     "output_type": "stream",
     "text": [
      "\n",
      "generator loss : 1.6215, discriminator loss : 0.0493, predictor loss  0.3798\n",
      "[178/200]\n"
     ]
    },
    {
     "data": {
      "application/vnd.jupyter.widget-view+json": {
       "model_id": "da9ea80c46114755892b8c5c43e90fd1",
       "version_major": 2,
       "version_minor": 0
      },
      "text/plain": [
       "HBox(children=(IntProgress(value=0, max=40), HTML(value='')))"
      ]
     },
     "metadata": {},
     "output_type": "display_data"
    },
    {
     "name": "stdout",
     "output_type": "stream",
     "text": [
      "\n",
      "generator loss : 1.7313, discriminator loss : 0.0681, predictor loss  0.3798\n",
      "[179/200]\n"
     ]
    },
    {
     "data": {
      "application/vnd.jupyter.widget-view+json": {
       "model_id": "098e6b73c4924ba79313b2b6f0ab95da",
       "version_major": 2,
       "version_minor": 0
      },
      "text/plain": [
       "HBox(children=(IntProgress(value=0, max=40), HTML(value='')))"
      ]
     },
     "metadata": {},
     "output_type": "display_data"
    },
    {
     "name": "stdout",
     "output_type": "stream",
     "text": [
      "\n",
      "generator loss : 1.6189, discriminator loss : 0.0744, predictor loss  0.3798\n",
      "[180/200]\n"
     ]
    },
    {
     "data": {
      "application/vnd.jupyter.widget-view+json": {
       "model_id": "1d9e8a8dc16045688305b3823c9d2da8",
       "version_major": 2,
       "version_minor": 0
      },
      "text/plain": [
       "HBox(children=(IntProgress(value=0, max=40), HTML(value='')))"
      ]
     },
     "metadata": {},
     "output_type": "display_data"
    },
    {
     "name": "stdout",
     "output_type": "stream",
     "text": [
      "\n",
      "generator loss : 1.4935, discriminator loss : 0.0470, predictor loss  0.3798\n",
      "[181/200]\n"
     ]
    },
    {
     "data": {
      "application/vnd.jupyter.widget-view+json": {
       "model_id": "8f86e7c3be20413187d45a9a3d4794c3",
       "version_major": 2,
       "version_minor": 0
      },
      "text/plain": [
       "HBox(children=(IntProgress(value=0, max=40), HTML(value='')))"
      ]
     },
     "metadata": {},
     "output_type": "display_data"
    },
    {
     "name": "stdout",
     "output_type": "stream",
     "text": [
      "\n",
      "generator loss : 1.4952, discriminator loss : 0.0362, predictor loss  0.3798\n",
      "[182/200]\n"
     ]
    },
    {
     "data": {
      "application/vnd.jupyter.widget-view+json": {
       "model_id": "85ed8508fac147e78f9ea69b9fc1b5fc",
       "version_major": 2,
       "version_minor": 0
      },
      "text/plain": [
       "HBox(children=(IntProgress(value=0, max=40), HTML(value='')))"
      ]
     },
     "metadata": {},
     "output_type": "display_data"
    },
    {
     "name": "stdout",
     "output_type": "stream",
     "text": [
      "\n",
      "generator loss : 1.5365, discriminator loss : 0.0373, predictor loss  0.3798\n",
      "[183/200]\n"
     ]
    },
    {
     "data": {
      "application/vnd.jupyter.widget-view+json": {
       "model_id": "37e8b4df4c834fe6bb2eed3aa8f730d6",
       "version_major": 2,
       "version_minor": 0
      },
      "text/plain": [
       "HBox(children=(IntProgress(value=0, max=40), HTML(value='')))"
      ]
     },
     "metadata": {},
     "output_type": "display_data"
    },
    {
     "name": "stdout",
     "output_type": "stream",
     "text": [
      "\n",
      "generator loss : 1.5479, discriminator loss : 0.0453, predictor loss  0.3798\n",
      "[184/200]\n"
     ]
    },
    {
     "data": {
      "application/vnd.jupyter.widget-view+json": {
       "model_id": "93e821eccbd8425b875ec6d3ce557d8b",
       "version_major": 2,
       "version_minor": 0
      },
      "text/plain": [
       "HBox(children=(IntProgress(value=0, max=40), HTML(value='')))"
      ]
     },
     "metadata": {},
     "output_type": "display_data"
    },
    {
     "name": "stdout",
     "output_type": "stream",
     "text": [
      "\n",
      "generator loss : 1.4828, discriminator loss : 0.0423, predictor loss  0.3798\n",
      "[185/200]\n"
     ]
    },
    {
     "data": {
      "application/vnd.jupyter.widget-view+json": {
       "model_id": "7745113e07e345b7b0392a1f0dd99cb3",
       "version_major": 2,
       "version_minor": 0
      },
      "text/plain": [
       "HBox(children=(IntProgress(value=0, max=40), HTML(value='')))"
      ]
     },
     "metadata": {},
     "output_type": "display_data"
    },
    {
     "name": "stdout",
     "output_type": "stream",
     "text": [
      "\n",
      "generator loss : 1.4708, discriminator loss : 0.0395, predictor loss  0.3798\n",
      "[186/200]\n"
     ]
    },
    {
     "data": {
      "application/vnd.jupyter.widget-view+json": {
       "model_id": "df4029ff6d9349b1a1d08e734f3e7632",
       "version_major": 2,
       "version_minor": 0
      },
      "text/plain": [
       "HBox(children=(IntProgress(value=0, max=40), HTML(value='')))"
      ]
     },
     "metadata": {},
     "output_type": "display_data"
    },
    {
     "name": "stdout",
     "output_type": "stream",
     "text": [
      "\n",
      "generator loss : 1.5247, discriminator loss : 0.0368, predictor loss  0.3798\n",
      "[187/200]\n"
     ]
    },
    {
     "data": {
      "application/vnd.jupyter.widget-view+json": {
       "model_id": "771c82f02a244f0a8aa83c949e7cae61",
       "version_major": 2,
       "version_minor": 0
      },
      "text/plain": [
       "HBox(children=(IntProgress(value=0, max=40), HTML(value='')))"
      ]
     },
     "metadata": {},
     "output_type": "display_data"
    },
    {
     "name": "stdout",
     "output_type": "stream",
     "text": [
      "\n",
      "generator loss : 1.3905, discriminator loss : 0.0294, predictor loss  0.3798\n",
      "[188/200]\n"
     ]
    },
    {
     "data": {
      "application/vnd.jupyter.widget-view+json": {
       "model_id": "cbffc802b82c4aefadd43b5f099c5d78",
       "version_major": 2,
       "version_minor": 0
      },
      "text/plain": [
       "HBox(children=(IntProgress(value=0, max=40), HTML(value='')))"
      ]
     },
     "metadata": {},
     "output_type": "display_data"
    },
    {
     "name": "stdout",
     "output_type": "stream",
     "text": [
      "\n",
      "generator loss : 1.4347, discriminator loss : 0.0293, predictor loss  0.3798\n",
      "[189/200]\n"
     ]
    },
    {
     "data": {
      "application/vnd.jupyter.widget-view+json": {
       "model_id": "efe9d29c0e26483194d14b11a4956cff",
       "version_major": 2,
       "version_minor": 0
      },
      "text/plain": [
       "HBox(children=(IntProgress(value=0, max=40), HTML(value='')))"
      ]
     },
     "metadata": {},
     "output_type": "display_data"
    },
    {
     "name": "stdout",
     "output_type": "stream",
     "text": [
      "\n",
      "generator loss : 1.5188, discriminator loss : 0.0371, predictor loss  0.3798\n",
      "[190/200]\n"
     ]
    },
    {
     "data": {
      "application/vnd.jupyter.widget-view+json": {
       "model_id": "7c3718a635f34711a82d3378e87a170b",
       "version_major": 2,
       "version_minor": 0
      },
      "text/plain": [
       "HBox(children=(IntProgress(value=0, max=40), HTML(value='')))"
      ]
     },
     "metadata": {},
     "output_type": "display_data"
    },
    {
     "name": "stdout",
     "output_type": "stream",
     "text": [
      "\n",
      "generator loss : 1.5380, discriminator loss : 0.0441, predictor loss  0.3798\n",
      "[191/200]\n"
     ]
    },
    {
     "data": {
      "application/vnd.jupyter.widget-view+json": {
       "model_id": "6dc83776f38a402b9963b3b7db8ac0c5",
       "version_major": 2,
       "version_minor": 0
      },
      "text/plain": [
       "HBox(children=(IntProgress(value=0, max=40), HTML(value='')))"
      ]
     },
     "metadata": {},
     "output_type": "display_data"
    },
    {
     "name": "stdout",
     "output_type": "stream",
     "text": [
      "\n",
      "generator loss : 1.4767, discriminator loss : 0.0582, predictor loss  0.3798\n",
      "[192/200]\n"
     ]
    },
    {
     "data": {
      "application/vnd.jupyter.widget-view+json": {
       "model_id": "fbdee7e0d79f47ae887c745911cf2892",
       "version_major": 2,
       "version_minor": 0
      },
      "text/plain": [
       "HBox(children=(IntProgress(value=0, max=40), HTML(value='')))"
      ]
     },
     "metadata": {},
     "output_type": "display_data"
    },
    {
     "name": "stdout",
     "output_type": "stream",
     "text": [
      "\n",
      "generator loss : 1.5911, discriminator loss : 0.0544, predictor loss  0.3798\n",
      "[193/200]\n"
     ]
    },
    {
     "data": {
      "application/vnd.jupyter.widget-view+json": {
       "model_id": "53116c39f57249fda918550a4ea321c5",
       "version_major": 2,
       "version_minor": 0
      },
      "text/plain": [
       "HBox(children=(IntProgress(value=0, max=40), HTML(value='')))"
      ]
     },
     "metadata": {},
     "output_type": "display_data"
    },
    {
     "name": "stdout",
     "output_type": "stream",
     "text": [
      "\n",
      "generator loss : 1.4818, discriminator loss : 0.0423, predictor loss  0.3798\n",
      "[194/200]\n"
     ]
    },
    {
     "data": {
      "application/vnd.jupyter.widget-view+json": {
       "model_id": "7af27f7cf81f43df82bdfd46a2be1c02",
       "version_major": 2,
       "version_minor": 0
      },
      "text/plain": [
       "HBox(children=(IntProgress(value=0, max=40), HTML(value='')))"
      ]
     },
     "metadata": {},
     "output_type": "display_data"
    },
    {
     "name": "stdout",
     "output_type": "stream",
     "text": [
      "\n",
      "generator loss : 1.5543, discriminator loss : 0.0449, predictor loss  0.3798\n",
      "[195/200]\n"
     ]
    },
    {
     "data": {
      "application/vnd.jupyter.widget-view+json": {
       "model_id": "96f180f3509c4a88a488bab15cc847af",
       "version_major": 2,
       "version_minor": 0
      },
      "text/plain": [
       "HBox(children=(IntProgress(value=0, max=40), HTML(value='')))"
      ]
     },
     "metadata": {},
     "output_type": "display_data"
    },
    {
     "name": "stdout",
     "output_type": "stream",
     "text": [
      "\n",
      "generator loss : 1.5988, discriminator loss : 0.0527, predictor loss  0.3798\n",
      "[196/200]\n"
     ]
    },
    {
     "data": {
      "application/vnd.jupyter.widget-view+json": {
       "model_id": "8ec682cbd0b6427d9749e9dcd643183d",
       "version_major": 2,
       "version_minor": 0
      },
      "text/plain": [
       "HBox(children=(IntProgress(value=0, max=40), HTML(value='')))"
      ]
     },
     "metadata": {},
     "output_type": "display_data"
    },
    {
     "name": "stdout",
     "output_type": "stream",
     "text": [
      "\n",
      "generator loss : 1.4751, discriminator loss : 0.0533, predictor loss  0.3798\n",
      "[197/200]\n"
     ]
    },
    {
     "data": {
      "application/vnd.jupyter.widget-view+json": {
       "model_id": "1447b37dd2244854bf087426f1f2c628",
       "version_major": 2,
       "version_minor": 0
      },
      "text/plain": [
       "HBox(children=(IntProgress(value=0, max=40), HTML(value='')))"
      ]
     },
     "metadata": {},
     "output_type": "display_data"
    },
    {
     "name": "stdout",
     "output_type": "stream",
     "text": [
      "\n",
      "generator loss : 1.4677, discriminator loss : 0.0636, predictor loss  0.3798\n",
      "[198/200]\n"
     ]
    },
    {
     "data": {
      "application/vnd.jupyter.widget-view+json": {
       "model_id": "61d301c580f9408d821069cdefd1ae77",
       "version_major": 2,
       "version_minor": 0
      },
      "text/plain": [
       "HBox(children=(IntProgress(value=0, max=40), HTML(value='')))"
      ]
     },
     "metadata": {},
     "output_type": "display_data"
    },
    {
     "name": "stdout",
     "output_type": "stream",
     "text": [
      "\n",
      "generator loss : 1.5794, discriminator loss : 0.0421, predictor loss  0.3798\n",
      "[199/200]\n"
     ]
    },
    {
     "data": {
      "application/vnd.jupyter.widget-view+json": {
       "model_id": "b79f1e3c1a084f8da67481892f96967a",
       "version_major": 2,
       "version_minor": 0
      },
      "text/plain": [
       "HBox(children=(IntProgress(value=0, max=40), HTML(value='')))"
      ]
     },
     "metadata": {},
     "output_type": "display_data"
    },
    {
     "name": "stdout",
     "output_type": "stream",
     "text": [
      "\n",
      "generator loss : 1.4252, discriminator loss : 0.0409, predictor loss  0.3798\n",
      "[200/200]\n"
     ]
    },
    {
     "data": {
      "application/vnd.jupyter.widget-view+json": {
       "model_id": "c0456d23897e4436bc05f08d62d6b32b",
       "version_major": 2,
       "version_minor": 0
      },
      "text/plain": [
       "HBox(children=(IntProgress(value=0, max=40), HTML(value='')))"
      ]
     },
     "metadata": {},
     "output_type": "display_data"
    },
    {
     "name": "stdout",
     "output_type": "stream",
     "text": [
      "\n",
      "generator loss : 1.4959, discriminator loss : 0.0384, predictor loss  0.3798\n"
     ]
    }
   ],
   "source": [
    "logger = GAN_Logger(_generator, _discriminator, _predictor, file_name=log_file, num_classes=n_class)\n",
    "trainer = Trainer(_generator, _discriminator, _predictor, num_classes=n_class)\n",
    "    \n",
    "fix_noises = Variable(torch.randn(500, n_noise_fea))\n",
    "# Total number of epochs to train\n",
    "p_error = torch.rand(1)\n",
    "for epoch in range(1, n_epoch + 1):\n",
    "    print(\"[%d/%d]\"%(epoch, n_epoch))\n",
    "    for real_batch, real_label in tqdm(Train_dataloader):\n",
    "        real_batch = real_batch.to(device).float()\n",
    "        real_label = real_label.to(device).long()\n",
    "       \n",
    "        real_data = Variable(real_batch)\n",
    "        cls = Variable(real_label)\n",
    "        \n",
    "        # 1. Train Discriminator\n",
    "        d_error, d_pred_real, d_pred_fake = trainer.train_discriminator(real_data)\n",
    "\n",
    "        # 2. Train Generator\n",
    "        g_error = trainer.train_generator()\n",
    "        \n",
    "#         3. Train Predictor\n",
    "#         if(epoch % 2 == 0):\n",
    "#             p_error, p_real, p_fake = trainer.train_predictor(real_data, cls)\n",
    "        \n",
    "        logger.batch_update(gen_loss = g_error, dis_loss = d_error, pre_loss = p_error)\n",
    "        \n",
    "    with torch.no_grad():\n",
    "        fake_data = _generator(fix_noises).detach()\n",
    "        fake_img = fake_data.cpu().data\n",
    "        logger.epoch_update(epoch=epoch)"
   ]
  },
  {
   "cell_type": "code",
   "execution_count": 23,
   "metadata": {},
   "outputs": [
    {
     "name": "stdout",
     "output_type": "stream",
     "text": [
      "[0.9042715  0.8612175  0.93932825 0.87581056 0.796846   0.8305291\n",
      " 0.7575515  0.9223484  0.8567073  0.8771385  0.52731    0.5795857\n",
      " 0.9490226  0.8858964  0.8616113  0.8819239  0.6305367  0.71116537\n",
      " 0.95429736 0.9187768  0.79872596 0.9479868  0.7129684  0.9553649\n",
      " 0.95461744 0.8543171  0.8772103  0.8302237  0.91477257 0.8433113\n",
      " 0.8736863  0.8691552  0.8671249  0.87603456 0.8455033  0.6738124\n",
      " 0.9462808  0.89640576 0.9574702  0.579769   0.5933729  0.8673715\n",
      " 0.908672   0.8786123  0.83255833 0.8835116  0.8783409  0.87147707\n",
      " 0.8663071  0.9790475  0.84256524 0.804325   0.88469726 0.87566155\n",
      " 0.87334174 0.8245781  0.95488876 0.9173143  0.8381266  0.92179\n",
      " 0.8229161  0.9585653  0.64337724 0.90793365 0.8405494  0.7940712\n",
      " 0.60472244 0.86420226 0.8737702  0.81986296 0.5918071  0.897172\n",
      " 0.8613165  0.95191747 0.84894526 0.96941334 0.8612555  0.5020346\n",
      " 0.7371584  0.83882105 0.8094877  0.6259446  0.59488094 0.81332785\n",
      " 0.9460002  0.7514112  0.63009155 0.84849477 0.8934354  0.5491395\n",
      " 0.9103218  0.5804859  0.5020346  0.8434742  0.57404673 0.6810736\n",
      " 0.91551834 0.8297256  0.85352254 0.84090775 0.85155743 0.98268086\n",
      " 0.859462   0.60704696 0.8965444  0.8347663  0.94701993 0.91961646\n",
      " 0.8645765  0.51325095 0.74074113 0.86879534 0.8072579  0.84620965\n",
      " 0.86874694 0.8688699  0.6157355  0.8474871  0.7671071  0.8628808\n",
      " 0.50000274 0.5877169  0.80332744 0.8480912  0.8615129  0.82399565\n",
      " 0.8802483  0.8832211  0.9202581  0.6602478  0.8718282  0.86838925\n",
      " 0.88947785 0.5679827  0.91838264 0.82031465 0.8763886  0.9017688\n",
      " 0.87522656 0.8593031  0.6087251  0.64985853 0.82108355 0.87682223\n",
      " 0.87241817 0.984855   0.87444764 0.84483397 0.9262811  0.6292311\n",
      " 0.8669206  0.95375913 0.9382721  0.77781147 0.5020346  0.8524807\n",
      " 0.8668625  0.8655393  0.84501183 0.83187515 0.9124733  0.8481133\n",
      " 0.88153696 0.9308124  0.80376726 0.5181806  0.62955004 0.8714504\n",
      " 0.9149492  0.8312128  0.94785666 0.84220326 0.95975137 0.8453329\n",
      " 0.8619442  0.84160775 0.9209425  0.79363984 0.8779686  0.8667032\n",
      " 0.8457528  0.96732795 0.9856472  0.87497365 0.97530067 0.8867583\n",
      " 0.94371194 0.85082716 0.8752786  0.9552287  0.8409479  0.7528394\n",
      " 0.9066089  0.9058339  0.7027674  0.89380455 0.9891131  0.84270716\n",
      " 0.88406396 0.84267765 0.8733504  0.8407376  0.79633456 0.8666818\n",
      " 0.9485292  0.9311138  0.9243783  0.6458551  0.95813656 0.8796527\n",
      " 0.84458154 0.9450145  0.9847211  0.8611903  0.8860361  0.8932925\n",
      " 0.92426115 0.8689214  0.8143689  0.838716   0.89939743 0.853729\n",
      " 0.8374977  0.9555869  0.79617393 0.98815364 0.84033847 0.9648519\n",
      " 0.87654865 0.8343735  0.9232871  0.9726486  0.79644704 0.960303\n",
      " 0.85612327 0.81599486 0.8469562  0.9735483  0.7983063  0.8752053\n",
      " 0.9522527  0.9071811  0.6060363  0.840716   0.9284247  0.905988\n",
      " 0.76282495 0.8773076  0.84746885 0.86927265 0.84246755 0.9608029\n",
      " 0.8968934  0.8648971  0.78326833 0.94738424 0.66027015 0.5020346\n",
      " 0.79266477 0.836437   0.92850786 0.98044914 0.87988776 0.9276192\n",
      " 0.85442007 0.51557255 0.8446333  0.8605833  0.74014956 0.72448665\n",
      " 0.872598   0.8675746  0.851346   0.53137726 0.86356753 0.6621162\n",
      " 0.52076954 0.90542024 0.8519711  0.5020346  0.8291086  0.5437969\n",
      " 0.842501   0.88680035 0.65417296 0.9532629  0.87377936 0.96551913\n",
      " 0.78762805 0.88644576 0.8974916  0.94246167 0.8686247  0.8517714\n",
      " 0.73425555 0.8592086  0.89645755 0.84110326 0.8876604  0.8147127\n",
      " 0.87737805 0.8738006  0.6320482  0.81481045 0.9040596  0.8696833\n",
      " 0.8521195  0.9539943  0.73467374 0.7098988  0.82938063 0.8551733\n",
      " 0.7940424  0.87134796 0.85488814 0.9176383  0.9012447  0.8408528\n",
      " 0.92157096 0.77502096 0.88103163 0.81148905 0.8601467  0.8746171\n",
      " 0.86860085 0.52938193 0.66260433 0.916373   0.8774768  0.8763074\n",
      " 0.89835644 0.8379025  0.9157794  0.9726705  0.8703666  0.5173382\n",
      " 0.84816146 0.96140164 0.83684736 0.8540024  0.82917625 0.6969476\n",
      " 0.7250352  0.8801535  0.8358408  0.5020346  0.871749   0.7733914\n",
      " 0.95378155 0.83376867 0.83927685 0.52901965 0.9355027  0.92104447\n",
      " 0.87715054 0.7824352  0.92533076 0.96358865 0.80095834 0.86158234\n",
      " 0.68351483 0.99192274 0.7501672  0.96584874 0.92970294 0.9502353\n",
      " 0.60582525 0.85980636 0.84063756 0.8680603  0.85913235 0.82145983\n",
      " 0.9112619  0.9477047  0.68962127 0.86169875 0.72824657 0.88736\n",
      " 0.8416078  0.7760019  0.871324   0.87904733 0.86653775 0.7723585\n",
      " 0.8646581  0.8399011  0.8225469  0.8642229  0.8707752  0.95041186\n",
      " 0.8431234  0.89284134 0.9477298  0.7590778  0.9221313  0.8999159\n",
      " 0.9276925  0.84737104 0.8707408  0.89781934 0.5020346  0.83946913\n",
      " 0.6762297  0.84401    0.8300189  0.845963   0.82725465 0.8329073\n",
      " 0.5317222  0.59453285 0.95942426 0.9143519  0.8111683  0.87005526\n",
      " 0.70327544 0.71802133 0.50724924 0.841475   0.86795264 0.9122015\n",
      " 0.99321705 0.87616473 0.9196222  0.84521717 0.5020346  0.9164727\n",
      " 0.9610721  0.8868265  0.8770469  0.699028   0.8149784  0.93587387\n",
      " 0.8355408  0.8411254  0.5035213  0.68305093 0.69863886 0.8923004\n",
      " 0.8011628  0.9388556  0.9691575  0.91873235 0.77672577 0.8727072\n",
      " 0.91954136 0.8711204  0.8772746  0.8015859  0.9198181  0.5257707\n",
      " 0.86825216 0.8797608  0.56012833 0.885806   0.89834344 0.89323866\n",
      " 0.83230174 0.84453386 0.685973   0.9475361  0.8168527  0.8427937\n",
      " 0.81324625 0.8924073  0.973943   0.91095805 0.86603814 0.92852974\n",
      " 0.81549144 0.80372494 0.9146618  0.8458625  0.84483397 0.5039967\n",
      " 0.5497049  0.9332026  0.8987503  0.838451   0.84791297 0.70788854\n",
      " 0.81041896 0.93896973 0.6234015  0.7589999  0.8753727  0.923868\n",
      " 0.836723   0.87545246 0.8590931  0.9232346  0.93992573 0.8359529\n",
      " 0.6393568  0.7174129  0.84234124 0.8791822  0.8695192  0.86384875\n",
      " 0.89516765 0.8657464 ]\n"
     ]
    },
    {
     "data": {
      "image/png": "[encoded data removed]",
      "text/plain": [
       "<Figure size 576x576 with 1 Axes>"
      ]
     },
     "metadata": {
      "needs_background": "light"
     },
     "output_type": "display_data"
    }
   ],
   "source": [
    "_generator.eval()\n",
    "_predictor.eval()\n",
    "fix_noises = Variable(torch.randn(500, n_noise_fea))\n",
    "with torch.no_grad():\n",
    "    fake_data = _generator(fix_noises).detach()\n",
    "    p = _predictor(fake_data)\n",
    "    p = F.softmax(p, dim=-1)\n",
    "    fake_data = fake_data.cpu().data\n",
    "  \n",
    "    p = np.max(p.cpu().numpy(), axis=1)\n",
    "    X_highpro = fake_data[(p > 0.5) & (p < 0.6)]\n",
    "    plt.figure(figsize=[8,8])\n",
    "    plt.ylim(-50, 50)\n",
    "    plt.xlim(-50, 50)\n",
    "    plt.scatter(X_train1[:,0], X_train1[:,1], c='b', linewidth=0.1)\n",
    "    plt.scatter(X_train2[:,0], X_train2[:,1], c='r', linewidth=0.1)\n",
    "    plt.scatter(fake_data[:,0], fake_data[:,1], c='y', linewidth=0.1)\n",
    "    plt.scatter(X_highpro[:,0], X_highpro[:,1], c='c', linewidth=0.1)"
   ]
  },
  {
   "cell_type": "code",
   "execution_count": 12,
   "metadata": {},
   "outputs": [
    {
     "data": {
      "image/png": "[encoded data removed]",
      "text/plain": [
       "<Figure size 576x576 with 1 Axes>"
      ]
     },
     "metadata": {
      "needs_background": "light"
     },
     "output_type": "display_data"
    }
   ],
   "source": [
    "Test_data = dataload(mode = 'test')\n",
    "Test_dataloader = DataLoader(dataset=Test_data, batch_size = 5000, shuffle=False)\n",
    "\n",
    "_predictor.eval()   \n",
    "with torch.no_grad():\n",
    "    for data, classes in (Test_dataloader):\n",
    "\n",
    "        labels = classes.cuda()\n",
    "        data = data.cuda().float()\n",
    "        a = _predictor(data)\n",
    "\n",
    "        p_class = F.softmax(a, dim=-1)\n",
    "    \n",
    "p = np.max(p_class.cpu().numpy(), axis=1)\n",
    "X_highpro = X_test[(p > 0.5) & (p < 0.6)]\n",
    "\n",
    "plt.figure(figsize=[8,8])\n",
    "plt.ylim(-50, 50)\n",
    "plt.xlim(-50, 50)\n",
    "plt.scatter(X_train1[:,0], X_train1[:,1], c='b', linewidth=0.1)\n",
    "plt.scatter(X_train2[:,0], X_train2[:,1], c='r', linewidth=0.1)\n",
    "plt.scatter(X_test[:,0], X_test[:,1], c='y', linewidth=0.1)\n",
    "plt.scatter(X_highpro[:,0], X_highpro[:,1], c='c', linewidth=0.1)\n",
    "plt.show()\n"
   ]
  },
  {
   "cell_type": "code",
   "execution_count": null,
   "metadata": {},
   "outputs": [],
   "source": []
  }
 ],
 "metadata": {
  "kernelspec": {
   "display_name": "Python 3",
   "language": "python",
   "name": "python3"
  },
  "language_info": {
   "codemirror_mode": {
    "name": "ipython",
    "version": 3
   },
   "file_extension": ".py",
   "mimetype": "text/x-python",
   "name": "python",
   "nbconvert_exporter": "python",
   "pygments_lexer": "ipython3",
   "version": "3.5.2"
  }
 },
 "nbformat": 4,
 "nbformat_minor": 2
}
